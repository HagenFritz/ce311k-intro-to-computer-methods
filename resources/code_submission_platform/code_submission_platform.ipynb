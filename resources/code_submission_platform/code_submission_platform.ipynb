{
  "nbformat": 4,
  "nbformat_minor": 0,
  "metadata": {
    "colab": {
      "provenance": []
    },
    "kernelspec": {
      "name": "python3",
      "display_name": "Python 3"
    },
    "language_info": {
      "name": "python"
    }
  },
  "cells": [
    {
      "cell_type": "markdown",
      "source": [
        "# Jupyter Notebook Code Submission Platform\n",
        "This notebook allows you to submit code via API to a Google Form."
      ],
      "metadata": {
        "id": "XwNY3uUr8qzV"
      }
    },
    {
      "cell_type": "markdown",
      "source": [
        "### Library Import and Helper Functions\n",
        "Be sure to run the following cells below for setup."
      ],
      "metadata": {
        "id": "V65aw2m-9pmR"
      }
    },
    {
      "cell_type": "code",
      "source": [
        "# Import necessary libraries\n",
        "from IPython import get_ipython\n",
        "import requests"
      ],
      "metadata": {
        "id": "0UleH2dW2YdU"
      },
      "execution_count": 1,
      "outputs": []
    },
    {
      "cell_type": "markdown",
      "source": [
        "Helper Functions\n",
        "1. Get the student's second to last cell entry\n",
        "2. Submit the answer to a Google form via API"
      ],
      "metadata": {
        "id": "HtRMXKmx387q"
      }
    },
    {
      "cell_type": "markdown",
      "source": [
        "#### `get_student_code`"
      ],
      "metadata": {
        "id": "QbueQGYB_B4O"
      }
    },
    {
      "cell_type": "code",
      "source": [
        "def get_student_code():\n",
        "  \"\"\"Retrieve the second-to-last executed cell's content (the last will be the submission code).\"\"\"\n",
        "  ipython = get_ipython()\n",
        "  # Get the history of executed code\n",
        "  history = list(ipython.history_manager.get_range(output=False))\n",
        "  if len(history) < 2:\n",
        "      return \"\", \"\"  # Not enough history to retrieve the second-to-last cell\n",
        "\n",
        "  _, _, student_code = history[-2]  # Get second-to-last cell code\n",
        "\n",
        "  # Get the output of the second-to-last cell\n",
        "  exec_count = len(ipython.history_manager.input_hist_raw) - 2\n",
        "  output = ipython.displayhook.shell.user_ns.get(\"Out\", {}).get(exec_count, \"\")\n",
        "\n",
        "  return student_code, output"
      ],
      "metadata": {
        "id": "U7Lbfrg210Nc"
      },
      "execution_count": 2,
      "outputs": []
    },
    {
      "cell_type": "markdown",
      "source": [
        "#### `submit_answer`\n",
        "In the function below, update:\n",
        "* `form_url`: input the URL to your form response; should be a form similar to: https://docs.google.com/forms/u/0/d/e/long_string_of_numbers_and_letters/formResponse\n",
        "* `form_data`: a dictionary containing the field entry IDs and the data you want to send. By default, the function requires two parameters: `student_name` and `question_no`. The code and output are also pulled and sent from the second-to-last cell with the `get_student_code()` function."
      ],
      "metadata": {
        "id": "gpVNWlFc90yE"
      }
    },
    {
      "cell_type": "code",
      "source": [
        "def submit_answer(student_name, question_no):\n",
        "  \"\"\"\n",
        "  Submit the student's code to a Google Form.\n",
        "\n",
        "  Parameters\n",
        "  ----------\n",
        "  student_name : str\n",
        "    The student's name.\n",
        "  question_no : int\n",
        "    Number for the question submitting for\n",
        "\n",
        "  Returns\n",
        "  -------\n",
        "  <str> : str\n",
        "    Output of successful or unsuccessful submission\n",
        "  \"\"\"\n",
        "  # hardcoded Google Form URL\n",
        "  form_url = \"\"\n",
        "  # get code and output\n",
        "  code, output = get_student_code()\n",
        "  # map field IDs to input params - change the IDs to match your form\n",
        "  form_data = {\n",
        "      \"entry.123456\": student_name,\n",
        "      \"entry.123457\": question_no,\n",
        "      \"entry.123458\": code,\n",
        "      \"entry.123459\": output\n",
        "  }\n",
        "\n",
        "  # Send the POST request\n",
        "  response = requests.post(form_url, data=form_data)\n",
        "  if response.status_code == 200:\n",
        "      print(\"Submission successful!\")\n",
        "  else:\n",
        "      print(f\"Submission failed with status code: {response.status_code}\")"
      ],
      "metadata": {
        "id": "LLcbwqNS37S4"
      },
      "execution_count": 3,
      "outputs": []
    },
    {
      "cell_type": "markdown",
      "source": [
        "# Test Question\n",
        "A test to see the system is working..."
      ],
      "metadata": {
        "id": "for440ev7aKK"
      }
    },
    {
      "cell_type": "code",
      "source": [
        "name = \"\" # Enter your name here\n",
        "name # DON'T USE PRINT! This ensure there is an output to grab"
      ],
      "metadata": {
        "colab": {
          "base_uri": "https://localhost:8080/",
          "height": 36
        },
        "id": "Ha3bx-a-7jXs",
        "outputId": "ed3364ef-dbb1-40d8-a598-dae60cbbc5a4"
      },
      "execution_count": null,
      "outputs": [
        {
          "output_type": "execute_result",
          "data": {
            "text/plain": [
              "''"
            ],
            "application/vnd.google.colaboratory.intrinsic+json": {
              "type": "string"
            }
          },
          "metadata": {},
          "execution_count": 61
        }
      ]
    },
    {
      "cell_type": "code",
      "source": [
        "submit_answer(student_name=name, question_no=0)"
      ],
      "metadata": {
        "colab": {
          "base_uri": "https://localhost:8080/"
        },
        "id": "ktKOb7CU7pyP",
        "outputId": "46cb6192-64d7-4bea-93fd-abfb365dc867"
      },
      "execution_count": null,
      "outputs": [
        {
          "output_type": "stream",
          "name": "stdout",
          "text": [
            "Submission successful!\n"
          ]
        }
      ]
    },
    {
      "cell_type": "markdown",
      "source": [
        "---"
      ],
      "metadata": {
        "id": "iVYpY9ujA2vL"
      }
    }
  ]
}