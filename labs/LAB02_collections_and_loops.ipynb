{
  "nbformat": 4,
  "nbformat_minor": 0,
  "metadata": {
    "colab": {
      "provenance": []
    },
    "kernelspec": {
      "name": "python3",
      "display_name": "Python 3"
    },
    "language_info": {
      "name": "python"
    }
  },
  "cells": [
    {
      "cell_type": "markdown",
      "source": [
        "# Laboratory 2: Collections and Loops\n",
        "\n",
        "### 💡 Learning Outcomes\n",
        "* Defining variables of type `list`\n",
        "* Accessing elements within a `list`\n",
        "* Creating basic `for` loops\n",
        "* Looping through list items\n",
        "\n",
        "### Total Points\n",
        "* Graded Out Of: 100\n",
        "* Max Possible: 100"
      ],
      "metadata": {
        "id": "S3pbdwml1Fi0"
      }
    },
    {
      "cell_type": "markdown",
      "source": [
        "---"
      ],
      "metadata": {
        "id": "5tXCQ_st40OU"
      }
    },
    {
      "cell_type": "markdown",
      "source": [
        "## Structural Load Analysis\n",
        "In civil engineering, **structural load analysis** is critical for ensuring that a structure, such as a bridge, can safely carry the forces applied to it. Loads must be carefully calculated and analyzed to verify that the structure remains within safe limits under various conditions.\n",
        "\n",
        "### Key Terms and Concepts\n",
        "1. **Span**: The horizontal distance between two supports of a structure.\n",
        "2. **Uniformly Distributed Load (UDL)**: A load that is evenly spread along the span of a structure, measured in kilonewtons per meter (kN/m).\n",
        "3. **Total Load (Q)**: The cumulative load acting on a span.\n",
        "4. **Safety Factor (SF)**: A measure of how safe a structure is under its load."
      ],
      "metadata": {
        "id": "UoAdpkDf4AiO"
      }
    },
    {
      "cell_type": "markdown",
      "source": [
        "## Exercise: Load Analysis for a Bridge\n",
        "Imagine a bridge divided into spans, each with different lengths and loads. Consider the following data for analysis:\n",
        "\n",
        "| Span # | Length ($L$) | Load Intensity ($q$) | Max Load ($Q_{\\text{max}}$) |\n",
        "|--------|--------------|----------------------|-----------------------------|\n",
        "| 1      | 24 m         | 4 kN/m               | 120 kN                      |\n",
        "| 2      | 28 m         | 4 kN/m               | 196 kN                      |\n",
        "| 3      | 25 m         | 3 kN/m               | 100 kN                      |\n",
        "| 4      | 15 m         | 6 kN/m               | 72 kN                       |\n",
        "\n",
        "In this lab, you will:\n",
        "1. Calculate the total load $Q$ on each span.\n",
        "2. Determine the safety factor $SF$ for each span.\n",
        "3. Classify each span as Safe, Warning, or Unsafe based on the $SF$.\n",
        "4. Compute some basic summary statistics on the dataset\n"
      ],
      "metadata": {
        "id": "m50-qQ9L43Hz"
      }
    },
    {
      "cell_type": "markdown",
      "source": [
        "### Data Input\n",
        "In the code cell below, use the data from the table to define three variables:\n",
        "- `span_lengths`: A `list` of `int` containing the four span lengths (in meters).\n",
        "- `load_intensities`: A `list` of `int` containing the uniformly distributed load intensities for each span (in kN/m).\n",
        "- `max_allowable_loads`: A `list` of `int` containing the maximum allowable loads for each span (in kN).\n",
        "\n",
        "_Total Points: 6_"
      ],
      "metadata": {
        "id": "1tyl-k-NGDA2"
      }
    },
    {
      "cell_type": "code",
      "source": [
        "# Define your three variables (6 Points)\n"
      ],
      "metadata": {
        "id": "VoHPH6byGFyk"
      },
      "execution_count": null,
      "outputs": []
    },
    {
      "cell_type": "markdown",
      "source": [
        "---"
      ],
      "metadata": {
        "id": "HG7-2MuzHbZJ"
      }
    },
    {
      "cell_type": "markdown",
      "source": [
        "### Calculate Span Loads\n",
        "Calculate the total load $Q$ on each span using the formula:\n",
        "\n",
        "$$Q = q \\times L$$\n",
        "\n",
        "Where:\n",
        "- $Q$: Total load on the span (kN)\n",
        "- $q$: Load intensity (kN/m)\n",
        "- $L$: Span length (m)\n",
        "\n",
        "#### Instructions\n",
        "1. **Define an Empty List**: Create an empty list called `span_loads` to store the total load values for each span. We will add to this for each iteration of our loop.\n",
        "\n",
        "2. **Loop Through the Data**:\n",
        "   - Use a `for` loop to iterate through the number of spans using an index variable. You will need to use the `range()` and `len()` built-in functions.\n",
        "   - For each iteration, calculate the total load $Q$ for the current span by multiplying its length $L$ by its load intensity $q$. Store this value in a variable `Q` that will be overwritten on each iteration.\n",
        "\n",
        "3. **Append the Load**: Append the calculated load `Q` to the `span_loads` list.\n",
        "\n",
        "4. **Print the Results**: After the loop finishes, print the `span_loads` list to display the total load for each span.\n",
        "\n",
        "_Total Points: 16_"
      ],
      "metadata": {
        "id": "hmyu0RiI4g9Q"
      }
    },
    {
      "cell_type": "code",
      "source": [
        "# Initialize span_loads an empty list (1 Point)\n",
        "\n",
        "\n",
        "# Create a for-loop to loop through the spans using an index variable `i`. Do NOT hardcode any values - use range() and len() fxns (6 Points)\n",
        "\n",
        "  # Calculate the load for the current span using the index `i` to access the current length and intensity and store in Q (5 Points)\n",
        "\n",
        "  # Append the calculated load Q to span_loads (3 Points)\n",
        "\n",
        "\n",
        "# Display the results (1 Point)\n"
      ],
      "metadata": {
        "id": "A0oFz5JS8XoM"
      },
      "execution_count": null,
      "outputs": []
    },
    {
      "cell_type": "markdown",
      "source": [
        "### Calculate Safety Factors and Classify Spans\n",
        "Evaluate the safety of each span by calculating its **safety factor** $SF$ and classifying it into one of three categories:\n",
        "- **Safe**: $SF > 1.5$\n",
        "- **Warning**: $1.0 \\leq SF \\leq 1.5$\n",
        "- **Unsafe**: $SF < 1.0$\n",
        "\n",
        "The safety factor is calculated using the formula:\n",
        "\n",
        "$$SF = \\frac{Q_{\\text{max}}}{Q}$$\n",
        "\n",
        "Where:\n",
        "- $SF$: Safety factor\n",
        "- $Q_{\\text{max}}$: Maximum allowable load for the span (kN)\n",
        "- $Q$: Total load on the span (kN)\n",
        "\n",
        "#### Instructions\n",
        "1. **Initialize Empty Lists**:\n",
        "   - Create an empty list called `safety_factors` to store the safety factors for each span.\n",
        "   - Create another empty list called `classifications` to store the classification (Safe, Warning, or Unsafe) for each span.\n",
        "\n",
        "2. **Loop Through the Data**: Use a `for` loop to iterate through the number of spans using an index variable. You will need to use the `range()` and `len()` built-in functions.\n",
        "\n",
        "3. **Calculate the Safety Factor**:\n",
        "   - For each span, divide its maximum allowable load by its total load.\n",
        "   - To avoid division by zero, check if the total load is `0`:\n",
        "     - If it is, assign the safety factor a value of zero.\n",
        "     - Otherwise, calculate the safety factor as described above.\n",
        "   - Append the calculated safety factor to the `safety_factors` list.\n",
        "\n",
        "4. **Classify the Span**:\n",
        "   - Use conditional statements to classify the span based on its safety factor:\n",
        "     - If $SF > 1.5$, classify it as \"Safe.\"\n",
        "     - If $1.0 \\leq SF \\leq 1.5$, classify it as \"Warning.\"\n",
        "     - If $SF < 1.0$, classify it as \"Unsafe.\"\n",
        "   - Append the classification to the `classifications` list.\n",
        "\n",
        "5. **Display the Results**: After the loop, print both the `safety_factors` and `classifications` lists to see the calculated values and classifications for each span.\n",
        "\n",
        "_Total Points: 32_"
      ],
      "metadata": {
        "id": "ivb3tiHd54y9"
      }
    },
    {
      "cell_type": "code",
      "source": [
        "# Initialize empty lists for `safety_factors` and `classifications` (2 Points)\n",
        "\n",
        "\n",
        "\n",
        "# Create a for-loop to loop through the spans using an index variable `i`. Do NOT hardcode any values - use range() and len() fxns (6 Points)\n",
        "\n",
        "  # Use an if-statement to check if `span_loads` at `i` is not zero (4 Points)\n",
        "\n",
        "    # Calculate the safecty factor and store the value in a variable called `sf` (3 Points)\n",
        "\n",
        "  # Include an else statement to store the value of 0 in `sf` i.e. the span load was 0 (2 Points)\n",
        "\n",
        "\n",
        "\n",
        "  # Append `sf` to `safety_factors` (2 Points)\n",
        "\n",
        "\n",
        "  # Use if statements to classify the spans\n",
        "  # If `sf` is greater than 1.5, append \"Safe\" to classifications (4 Points)\n",
        "\n",
        "\n",
        "  # else-if `sf` is between 1 and 1.5 (inclusive), append \"Warning\" to `classifications` (4 Points)\n",
        "\n",
        "\n",
        "  # else append \"Unsafe\" to `classifications # (3 Points)\n",
        "\n",
        "\n",
        "\n",
        "# Output safety_factors and classifications (2 Points)\n",
        "\n"
      ],
      "metadata": {
        "id": "9TgkMUgf-NRQ"
      },
      "execution_count": null,
      "outputs": []
    },
    {
      "cell_type": "markdown",
      "source": [
        "---"
      ],
      "metadata": {
        "id": "gb-14D21Lk0R"
      }
    },
    {
      "cell_type": "markdown",
      "source": [
        "### Count Spans in Each Classification\n",
        "\n",
        "Count the number of spans classified as **Safe**, **Warning**, and **Unsafe** based on the classifications determined in earlier.\n",
        "\n",
        "1. **Initialize Counters**: Create three variables:\n",
        "  - `safe_count`: Set to `0`, this will track the number of spans classified as \"Safe.\"\n",
        "  - `warning_count`: Set to `0`, this will track the number of spans classified as \"Warning.\"\n",
        "  - `unsafe_count`: Set to `0`, this will track the number of spans classified as \"Unsafe.\"\n",
        "\n",
        "2. **Loop Through Classifications**: Use a `for` loop to iterate through each classification in the `classifications` list.\n",
        "\n",
        "3. **Update Counters**: Inside the loop, use conditional statements to check the classification of each span:\n",
        "  - If the classification is `\"Safe\"`, increment `safe_count` by 1.\n",
        "  - If the classification is `\"Warning\"`, increment `warning_count` by 1.\n",
        "  - If the classification is `\"Unsafe\"`, increment `unsafe_count` by 1.\n",
        "\n",
        "4. **Display Results**: After the loop, print the total number of spans in each category using formatted strings.\n",
        "\n",
        "_Total Points: 18_"
      ],
      "metadata": {
        "id": "5ZppLlGQLiQi"
      }
    },
    {
      "cell_type": "code",
      "source": [
        "# Initialize count variables to zero (3 Points)\n",
        "\n",
        "\n",
        "\n",
        "\n",
        "# Use a for loop to loop through each classification element in classifications (3 Points)\n",
        "\n",
        "  # Use an if statement to check if the classification is \"Safe\" and if so, increment `safe_count` (3 Points)\n",
        "\n",
        "\n",
        "  # Use an else-if statement to check if the classification is \"Warning\" and if so, increment `warning_count` (3 Points)\n",
        "\n",
        "\n",
        "  # Use an else statement that increments the `unsafe_count` (3 Points)\n",
        "\n",
        "\n",
        "\n",
        "# Print out the value of each counter variable (3 Points)\n",
        "\n",
        "\n"
      ],
      "metadata": {
        "id": "KUCKfwdGK6mn"
      },
      "execution_count": null,
      "outputs": []
    },
    {
      "cell_type": "markdown",
      "source": [
        "### Identify the Span with the Highest Load\n",
        "Determine which span carries the highest total load and identify its index and value.\n",
        "\n",
        "#### **Instructions**\n",
        "1. **Initialize Variables**:\n",
        "   - Assign the first span's load to `max_load` as a starting point.\n",
        "   - Set `max_load_index` to `0` (the index of the first span).\n",
        "\n",
        "2. **Loop Through the Loads**: Use a `for` loop with `enumerate` to iterate over both the index (`i`) and load (`load`) of each span in the `span_loads` list.\n",
        "\n",
        "3. **Update Maximum Load**: Inside the loop, check if the current span's load is greater than the current `max_load`:\n",
        "  - If it is, update `max_load` with the new load value.\n",
        "  - If it is, update `max_load_index` with the index of the span.\n",
        "\n",
        "4. **Display Results**: After the loop, print the span number and its corresponding load.\n",
        "\n",
        "_Total Points: 16_"
      ],
      "metadata": {
        "id": "e6KORklHPYt_"
      }
    },
    {
      "cell_type": "code",
      "source": [
        "# Initialize `max_load` to the first element in `span_loads` (2 Points)\n",
        "\n",
        "# Initialize `max_load_index` to zero (1 Point)\n",
        "\n",
        "\n",
        "# Use a for-loop with `enumerate()` to loop through each span load in `span_loads` (5 Points)\n",
        "\n",
        "  # Check if the current load is greater than the max_load (3 Points)\n",
        "\n",
        "    # update `max_load` to the current load (1 Point)\n",
        "\n",
        "    # update max_load_index to the current index (1 Point)\n",
        "\n",
        "\n",
        "# Print the span number with the max_load (2 Points)\n",
        "\n",
        "# Print the max load (1 Point)\n"
      ],
      "metadata": {
        "id": "uVjZ3CbwQO4S"
      },
      "execution_count": null,
      "outputs": []
    },
    {
      "cell_type": "markdown",
      "source": [
        "---"
      ],
      "metadata": {
        "id": "5VakXnQsUGLO"
      }
    },
    {
      "cell_type": "markdown",
      "source": [
        "### Calculate the Average Safety Factor\n",
        "Compute the average safety factor across all spans to evaluate the overall safety of the bridge.\n",
        "\n",
        "#### **Instructions**\n",
        "1. **Initialize Total Safety Factor**: Create a variable `total_sf` and set it to `0`. This will store the sum of all safety factors.\n",
        "\n",
        "2. **Determine Span Count**: Use the built-in function `len()` to find the total number of elements in `span_loads` and assign it to `span_count`.\n",
        "\n",
        "3. **Loop Through Safety Factors**:\n",
        "  - Use a `for` loop to iterate through each safety factor in the `safety_factors` list.\n",
        "  - Add each safety factor to `total_sf`.\n",
        "\n",
        "4. **Calculate the Average**:\n",
        "   - Divide `total_sf` by `span_count` to get the average safety factor.\n",
        "   - Store the result in a variable `average_sf`.\n",
        "\n",
        "5. **Display the Result**: Print the average safety factor, formatted to two decimal places.\n",
        "\n",
        "_Total Points: 12_"
      ],
      "metadata": {
        "id": "oUx6kROcSIPu"
      }
    },
    {
      "cell_type": "code",
      "source": [
        "# Initialize `total_sf` to zero (1 Point)\n",
        "\n",
        "# Initialize `span_count` to the length of `span_loads` (2 Points)\n",
        "\n",
        "\n",
        "# Use a for-loop to loop through each of the elements in `safety_factors` (3 Points)\n",
        "\n",
        "  # Add the current safety factor value to `total_sf` (2 Points)\n",
        "\n",
        "\n",
        "# Calculate the average safety factor (3 Points)\n",
        "\n",
        "\n",
        "# Print out the average safety factor (1 Points)\n"
      ],
      "metadata": {
        "id": "ZLqxG6CwOLSB"
      },
      "execution_count": null,
      "outputs": []
    },
    {
      "cell_type": "markdown",
      "source": [
        "---"
      ],
      "metadata": {
        "id": "06ltlF6TUqa4"
      }
    }
  ]
}