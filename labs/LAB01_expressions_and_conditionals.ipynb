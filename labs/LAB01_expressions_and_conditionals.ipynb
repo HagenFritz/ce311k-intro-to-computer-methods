{
  "nbformat": 4,
  "nbformat_minor": 0,
  "metadata": {
    "colab": {
      "provenance": []
    },
    "kernelspec": {
      "name": "python3",
      "display_name": "Python 3"
    },
    "language_info": {
      "name": "python"
    }
  },
  "cells": [
    {
      "cell_type": "markdown",
      "source": [
        "# Laboratory 1: Expressions and Conditionals\n",
        "\n",
        "### 💡 Learning Outcomes\n",
        "* Writing arithmetic and boolean expressions\n",
        "* Working with conditionals\n",
        "\n",
        "### Total Points\n",
        "* Graded Out Of: 100\n",
        "* Max Possible: 103 (3 Potential Bonus Points)"
      ],
      "metadata": {
        "id": "S3pbdwml1Fi0"
      }
    },
    {
      "cell_type": "markdown",
      "source": [
        "---"
      ],
      "metadata": {
        "id": "5tXCQ_st40OU"
      }
    },
    {
      "cell_type": "markdown",
      "source": [
        "## Bernoulli Equation\n",
        "\n",
        "$P_1 + \\frac{1}{2} \\rho v_1^2 + \\rho g h_1 = P_2 + \\frac{1}{2} \\rho v_2^2 + \\rho g h_2$\n",
        "\n",
        "Where:\n",
        "- $P$: Pressure (Pa)\n",
        "- $\\rho$: Fluid density (kg/m³)\n",
        "- $v$: Velocity (m/s)\n",
        "- $g$: Acceleration due to gravity (m/s²)\n",
        "- $h$: Height above a reference point (m)\n",
        "\n",
        "You will be creating a series of small scripts to calculate the missing value of the Bernoulli Equation under various, simplifying conditions. For each problem below you will:\n",
        "1. 🖊 Simplify the equation and rewrite to solve for the given variable\n",
        "2. 🐍 Define the variables with the provided values\n",
        "3. 🐍 Write the equation you derived in (1) as a valid Python arithmetic expression to solve for the missing value\n",
        "4. 🐍 Provide conditional outputs based on the result"
      ],
      "metadata": {
        "id": "UoAdpkDf4AiO"
      }
    },
    {
      "cell_type": "markdown",
      "source": [
        "---"
      ],
      "metadata": {
        "id": "-TqciWIPHeZz"
      }
    },
    {
      "cell_type": "markdown",
      "source": [
        "## **1. Same Velocity (Uniform Flow)**\n",
        "- **Condition:** $v_1 = v_2$\n",
        "- **Reason:** The fluid maintains constant speed between the two points, so kinetic energy terms vanish.\n",
        "- **Applications:** Comparing pressures in slow-moving or static fluid systems.\n",
        "\n",
        "####❓ Solve for $P_2$\n",
        "Where:\n",
        "- $P_1 = 120,000 \\, \\text{Pa}$\n",
        "- $\\rho = 1.225 \\, \\text{kg/m}^3$ (air)\n",
        "- $g = 9.81 \\, \\text{m/s}^2$\n",
        "- $h_1 = 15 \\, \\text{m}$\n",
        "- $h_2 = 10 \\, \\text{m}$\n",
        "\n",
        "#### 📢 Provide these Conditional Outputs\n",
        "* `p2` greater than `p1`: \"P2 is higher than P1. This suggests an increase in pressure at the lower elevation point.\"\n",
        "* `p2` is equal to `p1`: \"P2 equals P1. The system appears balanced in pressure between the two points.\"\n",
        "* `p2` is less than 0: \"P2 is negative. This is physically unrealistic in most systems.\"\n",
        "* Otherwise: \"P2 is lower than P1. This might indicate a pressure drop due to elevation.\"\n",
        "\n",
        "_Total Points: 30_"
      ],
      "metadata": {
        "id": "1tyl-k-NGDA2"
      }
    },
    {
      "cell_type": "code",
      "source": [
        "# Define your variables with the given values: p1, rho, g, h1, and h2 (8 Points)\n",
        "\n",
        "\n",
        "\n",
        "\n",
        "\n",
        "\n",
        "# Solve for p2 by using the equation you derived (10 Points)\n",
        "p2 = None # input your equation here\n",
        "\n",
        "# Output the result of p2\n",
        "print(\"The Pressure (Pa) at Point 2:\", p2)\n",
        "\n",
        "# Provide conditional outputs (12 Points)\n"
      ],
      "metadata": {
        "id": "VoHPH6byGFyk",
        "colab": {
          "base_uri": "https://localhost:8080/"
        },
        "outputId": "dd64f29e-42ad-428d-b5f4-30429dd4e9a4"
      },
      "execution_count": null,
      "outputs": [
        {
          "output_type": "stream",
          "name": "stdout",
          "text": [
            "The Pressure (Pa) at Point 2: None\n"
          ]
        }
      ]
    },
    {
      "cell_type": "markdown",
      "source": [
        "---"
      ],
      "metadata": {
        "id": "HG7-2MuzHbZJ"
      }
    },
    {
      "cell_type": "markdown",
      "source": [
        "## **2. Horizontal Flow (No Height Difference)**\n",
        "- **Condition:** $h_1 = h_2 $\n",
        "- **Reason:** The flow occurs at the same elevation, so gravitational potential energy terms cancel.\n",
        "- **Applications:** Fluid flow in horizontal pipes, ducts, or channels.\n",
        "\n",
        "####❓ Solve for $P_2$\n",
        "Where:\n",
        "* $P_1 = 100,000\\ \\text{Pa}$\n",
        "* $\\rho = 1,000\\ \\text{kg/m}^3$ (water)\n",
        "* $v_1 = 1\\ \\text{m/s}$\n",
        "* $v_2 = 2\\ \\text{m/s}$\n",
        "\n",
        "#### 📢 Provide these Conditional Outputs\n",
        "* `p2` is less than 0: \"Pressure at P2 is negative. This is unrealistic in most physical systems!\"\n",
        "* `p2` is les than `p1`: \"Pressure at P2 is lower than P1.\"\n",
        "* `p2` is greater than `p1`: \"Pressure at P2 is higher than P1.\"\n",
        "* Otherwise: \"Pressure at P2 equals P1. Velocity and flow conditions might be uniform.\"\n",
        "\n",
        "_Total Points: 35_"
      ],
      "metadata": {
        "id": "hmyu0RiI4g9Q"
      }
    },
    {
      "cell_type": "code",
      "source": [
        "# Define your variables with the given values: p1, rho, v1, and v2 (7 Points)\n",
        "\n",
        "\n",
        "\n",
        "\n",
        "\n",
        "# Solve for p2 by using the equation you derived (18 Points)\n",
        "p2 = None # input your equation here\n",
        "\n",
        "# Output the result of p2\n",
        "print(\"The Pressure (Pa) at Point 2:\", p2)\n",
        "\n",
        "# Provide conditional outputs (12 Points)\n"
      ],
      "metadata": {
        "colab": {
          "base_uri": "https://localhost:8080/"
        },
        "id": "VZCI_uA456TS",
        "outputId": "eb3f5eee-29dd-4c73-f0b3-b47c8b1adaa8"
      },
      "execution_count": null,
      "outputs": [
        {
          "output_type": "stream",
          "name": "stdout",
          "text": [
            "The Pressure (Pa) at Point 2: None\n"
          ]
        }
      ]
    },
    {
      "cell_type": "markdown",
      "source": [
        "---"
      ],
      "metadata": {
        "id": "ss6KcZ-DHYch"
      }
    },
    {
      "cell_type": "markdown",
      "source": [
        "### **3. Equal Pressures (Open to Atmosphere)**\n",
        "- **Condition:** $P_1 = P_2$\n",
        "- **Reason:** Both points are exposed to atmospheric pressure, so pressure terms cancel out of the equation.\n",
        "- **Applications:** Free jets, such as water exiting a pipe, flowing over a spillway, or transitioning between open reservoirs.\n",
        "\n",
        "#### ❓ Solve for $h_2$\n",
        "Where:\n",
        "- $v_1 = 5 \\, \\text{m/s}$\n",
        "- $v_2 = 10 \\, \\text{m/s}$\n",
        "- $h_1 = 20 \\, \\text{m}$\n",
        "- $\\rho = 1,000 \\, \\text{kg/m}^3$ (water)\n",
        "- $g = 9.81 \\, \\text{m/s}^2$\n",
        "\n",
        "#### 📢 Provide these Conditional Outputs\n",
        "* `h2` is greater than `h1`: \"H2 is above the source height. This might indicate an energy input or an unrealistic assumption.\"\n",
        "* `h2` is equal to `h1`: \"The source and outlet are at the same height. This corresponds to equal elevation in the system.\"\n",
        "* `h2` is less than 0: \"H2 is below the reference level, which is physically unrealistic for this setup.\"\n",
        "* Otherwise: \"H2 is lower than H1 but still within realistic bounds. The fluid gains velocity as it flows down.\"\n",
        "\n",
        "_Total Points: 38_"
      ],
      "metadata": {
        "id": "ivb3tiHd54y9"
      }
    },
    {
      "cell_type": "code",
      "source": [
        "# Define your variables with the given values: v1, v2, h1, rho, and g (8 Points)\n",
        "\n",
        "\n",
        "\n",
        "\n",
        "\n",
        "\n",
        "# Solve for h2 by using the equation you derived (18 Points)\n",
        "h2 = None # input your equation here\n",
        "\n",
        "# Output the result of h2\n",
        "print(\"The Height (m) at Point 2:\", h2)\n",
        "\n",
        "# Provide conditional outputs (12 Points)\n"
      ],
      "metadata": {
        "colab": {
          "base_uri": "https://localhost:8080/"
        },
        "id": "W9Vp81YVAYYk",
        "outputId": "a59b21b7-80c0-4226-8b36-25d35526d71d"
      },
      "execution_count": null,
      "outputs": [
        {
          "output_type": "stream",
          "name": "stdout",
          "text": [
            "The Height (m) at Point 2: None\n"
          ]
        }
      ]
    },
    {
      "cell_type": "markdown",
      "source": [
        "---"
      ],
      "metadata": {
        "id": "MwKvqXQl7iAi"
      }
    }
  ]
}