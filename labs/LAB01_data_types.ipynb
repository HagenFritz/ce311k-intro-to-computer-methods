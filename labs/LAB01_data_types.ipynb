{
  "nbformat": 4,
  "nbformat_minor": 0,
  "metadata": {
    "colab": {
      "provenance": [],
      "collapsed_sections": [
        "wbkv5P_x27FA",
        "dHMAlD0e6b0v",
        "0QNNbw24IRKk"
      ]
    },
    "kernelspec": {
      "name": "python3",
      "display_name": "Python 3"
    },
    "language_info": {
      "name": "python"
    }
  },
  "cells": [
    {
      "cell_type": "markdown",
      "source": [
        "# Laboratory 1: Data Types\n",
        "Working with basic Python data types\n",
        "\n",
        "### 💡 Learning Outcomes\n",
        "* Basic Python data types\n",
        "* Defining valid variables\n",
        "* Built-in Functions: `type()` and `isinstance()`\n",
        "* Practice type-casting\n",
        "\n",
        "### 📅 Due Date\n",
        "Friday 01/24 by 23:59 CDT\n",
        "\n",
        "### Total Points: 50"
      ],
      "metadata": {
        "id": "S3pbdwml1Fi0"
      }
    },
    {
      "cell_type": "markdown",
      "source": [
        "---"
      ],
      "metadata": {
        "id": "5tXCQ_st40OU"
      }
    },
    {
      "cell_type": "markdown",
      "source": [
        "## Basic Python Data Types\n",
        "Using the four basic Python data types:\n",
        "* String - `str`\n",
        "* Integer - `int`\n",
        "* Float - `float`\n",
        "* Boolean - `bool`\n",
        "\n",
        "_Total: 20 Points_"
      ],
      "metadata": {
        "id": "wbkv5P_x27FA"
      }
    },
    {
      "cell_type": "markdown",
      "source": [
        "### Strings\n",
        "❓ **Question 1 (2 points)**\n",
        "\n",
        "Define a string variable called `name` and set it equal to your name. Use the `print()` statement to output the value of `name`"
      ],
      "metadata": {
        "id": "PpOSjJ9w3uLv"
      }
    },
    {
      "cell_type": "code",
      "source": [
        "# Define your variable\n",
        "\n",
        "# Output your variable\n"
      ],
      "metadata": {
        "id": "VQG7Cq2B4FPs"
      },
      "execution_count": null,
      "outputs": []
    },
    {
      "cell_type": "markdown",
      "source": [
        "❓ **Question 2 (3 points)**\n",
        "\n",
        "A \"name\"/\"title\" is a common variable that we define as a string. What are three other variables that we would likely define as a string?\n",
        "1.\n",
        "2.\n",
        "3.\n",
        "\n",
        "(Double-Click this cell to add your answers above)"
      ],
      "metadata": {
        "id": "TeumjCyO4IcX"
      }
    },
    {
      "cell_type": "markdown",
      "source": [
        "### Integers\n",
        "❓ **Question 3 (2 points)**\n",
        "\n",
        "Define an integer called `age` and set it equal to your age. Use a `print()` statement to output the value of `age`."
      ],
      "metadata": {
        "id": "UaFbFMBi4w92"
      }
    },
    {
      "cell_type": "code",
      "source": [
        "# Define your variable\n",
        "\n",
        "# Output your variable\n"
      ],
      "metadata": {
        "id": "4t8t-PMO5Cg0"
      },
      "execution_count": null,
      "outputs": []
    },
    {
      "cell_type": "markdown",
      "source": [
        "❓ **Question 4 (3 points)**\n",
        "\n",
        "\"age\" is a common variable that we define as an integer. What are three other variables that we would likely define as a integer?\n",
        "1.\n",
        "2.\n",
        "3.\n",
        "\n",
        "(Double-Click this cell to add your answers above)"
      ],
      "metadata": {
        "id": "OyDA_d9c5DqQ"
      }
    },
    {
      "cell_type": "markdown",
      "source": [
        "### Floats\n",
        "❓ **Question 5 (2 points)**\n",
        "\n",
        "Define an integer called `height` and set it equal to your height in feet. Be sure to use a decimal even if your height is a round number i.e. \"6.0\" instead of \"6\". Use a `print()` statement to output the value of `age`."
      ],
      "metadata": {
        "id": "o7P50S_95KZD"
      }
    },
    {
      "cell_type": "code",
      "source": [
        "# Define your variable\n",
        "\n",
        "# Output your variable\n"
      ],
      "metadata": {
        "id": "ZSSCQwn25kFa"
      },
      "execution_count": null,
      "outputs": []
    },
    {
      "cell_type": "markdown",
      "source": [
        "❓ **Question 6 (3 points)**\n",
        "\n",
        "\"height\" is a common variable to define as a float. What are three other variables that we would likely define as a float?\n",
        "1.\n",
        "2.\n",
        "3.\n",
        "\n",
        "(Double-Click this cell to add your answers above)"
      ],
      "metadata": {
        "id": "zIEKN3kv5nmb"
      }
    },
    {
      "cell_type": "markdown",
      "source": [
        "### Booleans\n",
        "❓ **Question 7 (2 points)**\n",
        "\n",
        "Define a boolean called `caffeinated` and set it to true or false depending on if you are heavily caffeinated. Use a `print()` statement to output the value of `caffeinated`."
      ],
      "metadata": {
        "id": "z3U97n1wFlUa"
      }
    },
    {
      "cell_type": "code",
      "source": [
        "# Define your variable\n",
        "\n",
        "# Output your variable\n"
      ],
      "metadata": {
        "id": "C1NntSSbGH5W"
      },
      "execution_count": null,
      "outputs": []
    },
    {
      "cell_type": "markdown",
      "source": [
        "❓ **Question 8 (3 points)**\n",
        "\n",
        "What are three other variables that we would likely define as a `boolean`?\n",
        "1.\n",
        "2.\n",
        "3.\n",
        "\n",
        "(Double-Click this cell to add your answers above)"
      ],
      "metadata": {
        "id": "JmFeLqVOGKnS"
      }
    },
    {
      "cell_type": "markdown",
      "source": [
        "---"
      ],
      "metadata": {
        "id": "PgDdpSln6Y4K"
      }
    },
    {
      "cell_type": "markdown",
      "source": [
        "## Defining Variables\n",
        "Valid variable-naming in Python\n",
        "\n",
        "_Total: 10 Points_"
      ],
      "metadata": {
        "id": "dHMAlD0e6b0v"
      }
    },
    {
      "cell_type": "markdown",
      "source": [
        "### Valid Variable Naming\n",
        "Below are some variables with valid names\n",
        "\n",
        "```python\n",
        "age = 31            # Integer\n",
        "pi = 3.14           # Float\n",
        "name = \"Hagen\"      # String\n",
        "is_active = True    # Boolean\n",
        "```"
      ],
      "metadata": {
        "id": "X6Smv1A36ryX"
      }
    },
    {
      "cell_type": "markdown",
      "source": [
        "❓ **Question 9 (2 points)**\n",
        "\n",
        "`2day` is an invalid variable name. Using the cell below, explain why."
      ],
      "metadata": {
        "id": "vRo1yg2p7Svs"
      }
    },
    {
      "cell_type": "markdown",
      "source": [],
      "metadata": {
        "id": "9-gXPMPM7fu7"
      }
    },
    {
      "cell_type": "markdown",
      "source": [
        "❓ **Question 10 (2 points)**\n",
        "\n",
        "`increase%` is an invalid variable name. Using the cell below, explain why."
      ],
      "metadata": {
        "id": "hxN5_gib7heI"
      }
    },
    {
      "cell_type": "markdown",
      "source": [],
      "metadata": {
        "id": "iNW5zJo37yY5"
      }
    },
    {
      "cell_type": "markdown",
      "source": [
        "❓ **Question 11 (2 points)**\n",
        "\n",
        "`first name` is an invalid variable name. Using the cell below, explain why."
      ],
      "metadata": {
        "id": "_MMZuIJe_LW8"
      }
    },
    {
      "cell_type": "markdown",
      "source": [],
      "metadata": {
        "id": "ZQRXfbRk_P8i"
      }
    },
    {
      "cell_type": "markdown",
      "source": [
        "❓ **Question 12 (2 points)**\n",
        "\n",
        "`last-name` is an invalid variable name. Using the cell below, explain why."
      ],
      "metadata": {
        "id": "AL6sJJZM_Q9n"
      }
    },
    {
      "cell_type": "markdown",
      "source": [],
      "metadata": {
        "id": "rwxd8epW_fjP"
      }
    },
    {
      "cell_type": "markdown",
      "source": [
        "❓ **Question 13 (2 points)**\n",
        "\n",
        "`if` is an invalid variable name. Using the cell below, explain why."
      ],
      "metadata": {
        "id": "gJs5XKPO_gHK"
      }
    },
    {
      "cell_type": "markdown",
      "source": [],
      "metadata": {
        "id": "O49aHbQh_jkY"
      }
    },
    {
      "cell_type": "markdown",
      "source": [
        "---"
      ],
      "metadata": {
        "id": "OrzwStA1IQEt"
      }
    },
    {
      "cell_type": "markdown",
      "source": [
        "## Checking Data Type\n",
        "Using Python's built-in functions: `type()` and `isinstance()`.\n",
        "\n",
        "_Total: 12 Points_"
      ],
      "metadata": {
        "id": "0QNNbw24IRKk"
      }
    },
    {
      "cell_type": "code",
      "source": [
        "word = \"engineer\"\n",
        "year = 2025\n",
        "temperature = 70.2\n",
        "is_active = True\n"
      ],
      "metadata": {
        "id": "HROYcpJqKjQ5"
      },
      "execution_count": null,
      "outputs": []
    },
    {
      "cell_type": "markdown",
      "source": [
        "❓ **Question 14 (6 points)**\n",
        "\n",
        "Practice using the `type()` function in the code cell below to output the data type. Follow the example that has been done for `word` where you save the output from `type()` into a variable and then print it out.\n",
        "\n",
        "See [here](https://www.geeksforgeeks.org/python-type-function/) to learn more about this function."
      ],
      "metadata": {
        "id": "lXrQcRmmIpIf"
      }
    },
    {
      "cell_type": "code",
      "source": [
        "# string\n",
        "word_type = type(word)\n",
        "print(word_type)\n",
        "\n",
        "# integer\n",
        "\n",
        "# float\n",
        "\n",
        "# boolean"
      ],
      "metadata": {
        "id": "mvKKCf-LKida",
        "colab": {
          "base_uri": "https://localhost:8080/"
        },
        "outputId": "77397449-aa80-4cd5-888d-a7e1cd2016c7"
      },
      "execution_count": null,
      "outputs": [
        {
          "output_type": "stream",
          "name": "stdout",
          "text": [
            "<class 'str'>\n"
          ]
        }
      ]
    },
    {
      "cell_type": "markdown",
      "source": [
        "❓ **Question 15 (6 points)**\n",
        "\n",
        "Practice using the `isinstance()` function in the code cell below to output the data type. Follow the example that has been done for `word` where you save boolean output from `isinstance()` into a variable and then print it out.\n",
        "\n",
        "See [here](https://www.w3schools.com/python/ref_func_isinstance.asp) to learn more about how to use this function."
      ],
      "metadata": {
        "id": "KVAfZTA6pR3G"
      }
    },
    {
      "cell_type": "code",
      "source": [
        "# string\n",
        "is_str = isinstance(word, str)\n",
        "print(is_str)\n",
        "\n",
        "# integer\n",
        "\n",
        "# float\n",
        "\n",
        "# boolean"
      ],
      "metadata": {
        "colab": {
          "base_uri": "https://localhost:8080/"
        },
        "id": "xTvLvX3zppMn",
        "outputId": "a2d6b6d1-9ed3-4052-e1bc-def97ead41a3"
      },
      "execution_count": null,
      "outputs": [
        {
          "output_type": "stream",
          "name": "stdout",
          "text": [
            "True\n"
          ]
        }
      ]
    },
    {
      "cell_type": "markdown",
      "source": [
        "---"
      ],
      "metadata": {
        "id": "bIL8HhatpvWX"
      }
    },
    {
      "cell_type": "markdown",
      "source": [
        "## Type Casting\n",
        "Practice using the following built-in functions:\n",
        "* `str()`\n",
        "* `int()`\n",
        "* `float()`\n",
        "* `bool()`\n",
        "\n",
        "_Total: 8 Points_"
      ],
      "metadata": {
        "id": "2eCdz9f5qFXd"
      }
    },
    {
      "cell_type": "markdown",
      "source": [
        "❓ **Question 15 (2 points)**\n",
        "\n",
        "Cast the following variable to a string with `str()` and save the result into a variable. After you cast it, be sure to show the output with `print()`."
      ],
      "metadata": {
        "id": "vKtFDZDUtrhS"
      }
    },
    {
      "cell_type": "code",
      "source": [
        "cost = 18.99\n",
        "# cast the cost variable and save it to a variable called cost_str\n",
        "\n",
        "# print cost_str\n"
      ],
      "metadata": {
        "id": "nQEs6_wluasD"
      },
      "execution_count": null,
      "outputs": []
    },
    {
      "cell_type": "markdown",
      "source": [
        "❓ **Question 16 (2 points)**\n",
        "\n",
        "Cast the following string variable to an integer with `int()` and save the result into a variable. After you cast it, be sure to show the output with `print()`."
      ],
      "metadata": {
        "id": "9fDVRW4Suq9I"
      }
    },
    {
      "cell_type": "code",
      "source": [
        "october = \"10\"\n",
        "# cast the october variable and save it to a variable called october_int\n",
        "\n",
        "# print october_int\n"
      ],
      "metadata": {
        "id": "XByvPPjG-SHu"
      },
      "execution_count": null,
      "outputs": []
    },
    {
      "cell_type": "markdown",
      "source": [
        "❓ **Question 17 (2 points)**\n",
        "\n",
        "Cast the following string variable to a float with `float()` and save the result into a variable. After you cast it, be sure to show the output with `print()`."
      ],
      "metadata": {
        "id": "hfMMQ30v-XUf"
      }
    },
    {
      "cell_type": "code",
      "source": [
        "price_str = \"11.99\"\n",
        "# cast the price_Str variable and save it to a variable called price\n",
        "\n",
        "# print cost\n"
      ],
      "metadata": {
        "id": "7NH2e8rB-pGJ"
      },
      "execution_count": null,
      "outputs": []
    },
    {
      "cell_type": "markdown",
      "source": [
        "❓ **Question 18 (2 points)**\n",
        "\n",
        "Cast the following integer variable to a boolean with `bool()` and save the result into a variable. After you cast it, be sure to show the output with `print()`."
      ],
      "metadata": {
        "id": "hsVNGe2L-_m0"
      }
    },
    {
      "cell_type": "code",
      "source": [
        "flag_int = 0\n",
        "# cast the flag_int variable and save it to a variable called flag\n",
        "\n",
        "# print flag\n"
      ],
      "metadata": {
        "colab": {
          "base_uri": "https://localhost:8080/"
        },
        "id": "SKy5q7N4_3jH",
        "outputId": "407de2e8-e22c-42e0-ab3b-624d89e66685"
      },
      "execution_count": null,
      "outputs": [
        {
          "output_type": "execute_result",
          "data": {
            "text/plain": [
              "False"
            ]
          },
          "metadata": {},
          "execution_count": 6
        }
      ]
    },
    {
      "cell_type": "markdown",
      "source": [
        "---"
      ],
      "metadata": {
        "id": "i66Hi2W2ABrR"
      }
    },
    {
      "cell_type": "markdown",
      "source": [],
      "metadata": {
        "id": "lvMPXFnZQKrC"
      }
    }
  ]
}