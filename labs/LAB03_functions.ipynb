{
  "nbformat": 4,
  "nbformat_minor": 0,
  "metadata": {
    "colab": {
      "provenance": []
    },
    "kernelspec": {
      "name": "python3",
      "display_name": "Python 3"
    },
    "language_info": {
      "name": "python"
    }
  },
  "cells": [
    {
      "cell_type": "markdown",
      "source": [
        "# Laboratory 3: Functions\n",
        "\n",
        "### 💡 Learning Outcomes\n",
        "* Defining functions\n",
        "* Calling functions\n",
        "* Increased confidence with conditionals\n",
        "* Increased confidence with for loops\n",
        "\n",
        "### Total Points\n",
        "* Graded Out Of: 100\n",
        "* Max Possible: 105"
      ],
      "metadata": {
        "id": "S3pbdwml1Fi0"
      }
    },
    {
      "cell_type": "markdown",
      "source": [
        "---"
      ],
      "metadata": {
        "id": "5tXCQ_st40OU"
      }
    },
    {
      "cell_type": "markdown",
      "source": [
        "### **Traffic Flow Analysis**\n",
        "Traffic flow analysis is essential in transportation engineering to understand how vehicles move through a roadway system. Key parameters in traffic flow include:\n",
        "\n",
        "#### **Traffic Flow ($q$)**\n",
        "The number of vehicles passing a specific point on the roadway per unit of time.\n",
        "\n",
        "$$q = v \\cdot k \\cdot \\gamma$$\n",
        "\n",
        "Where:\n",
        "- $q$: Traffic flow (vehicles/hour)\n",
        "- $v$: Average vehicle speed (km/h)\n",
        "- $k$: Vehicle density (vehicles/km)\n",
        "- $\\gamma$: Reduction factor where $0 < \\gamma <= 1.0$\n",
        "\n",
        "#### **Traffic Density $(k)$**:\n",
        "The number of vehicles occupying a unit length of the roadway.\n",
        "\n",
        "$$k = \\frac{q}{v}$$\n",
        "\n",
        "#### **Average Speed $(v)$**:\n",
        "The average speed of vehicles traveling over a given distance and time.\n",
        "\n",
        "$$v = \\frac{d}{t}$$\n",
        "\n",
        "Where:\n",
        "- $v$: Average speed (km/h)\n",
        "- $d$: Distance traveled (km)\n",
        "- $t$: Time taken (hours)\n"
      ],
      "metadata": {
        "id": "1tyl-k-NGDA2"
      }
    },
    {
      "cell_type": "markdown",
      "source": [
        "\n",
        "#### Create Traffic Flow Functions\n",
        "In this part of the lab, you will define and use Python functions to calculate traffic flow, density, and speed using the formulas above. Define each function in a separate code cell. The function `calculate_speed` has already been done for you. Use this function as a template to help you:\n",
        "1. Create a function `calculate_density` which takes three input parameters:\n",
        "  * `flow`: Traffic flow (vehicles/hour)\n",
        "  * `speed`: Average vehicle speed (km/h)\n",
        "  * `density_limit`: beyond this limit, traffic will backup. Specify a default value of 100 vehicles/km.\n",
        "2. Create a function `calculate_traffic_flow()` which takes three input parameters:\n",
        "  * `speed`: Average vehicle speed (km/h)\n",
        "  * `density`: Vehicle density (vehicles/km)\n",
        "  * `reduction_factor`: Factor to adjust flow for road conditions. Must be between 0 (exclusive) and 1 (inclusive). Specify a default value of 1.0.\n",
        "\n",
        "_Total Points: 30_\n"
      ],
      "metadata": {
        "id": "c6PaFj5txa-M"
      }
    },
    {
      "cell_type": "code",
      "source": [
        "def calculate_speed(distance, time, max_speed=120):\n",
        "  \"\"\"Calculates the average vehicle speed\"\"\"\n",
        "  if time <= 0:\n",
        "    # cannot divide by zero!\n",
        "    speed = 0\n",
        "  else:\n",
        "    speed = distance / time\n",
        "\n",
        "  # check that we are not going faster than the max speed\n",
        "  if speed > max_speed:\n",
        "    print(\"Error: Calculated speed is greater than the max speed. Setting the speed equal to max speed.\")\n",
        "    speed = max_speed\n",
        "\n",
        "  return speed"
      ],
      "metadata": {
        "id": "o7sSDgIpNxmC"
      },
      "execution_count": null,
      "outputs": []
    },
    {
      "cell_type": "code",
      "source": [
        "'''\n",
        "Create a function to calculate the vehicle density. The requirements are:\n",
        " * three input parameters: `flow`, `speed`, and `density_limit` (default is 100)\n",
        " * include an if-else statement to check if the speed parameter <= 0 to avoid division by zero errors.\n",
        "   * If it is, set `density` to 0\n",
        "   * Else, calculate `density` using the formula\n",
        " * Use an if statement to see if `density` is greater than `density_limit`. If so, print a warning message, but don't alter `density`\n",
        " * return a single variable `density`\n",
        "Total Points: 16\n",
        "'''\n"
      ],
      "metadata": {
        "id": "4Aybc7CAN_EF",
        "colab": {
          "base_uri": "https://localhost:8080/",
          "height": 72
        },
        "outputId": "756e5df3-e2a1-47e4-ab8e-edb2b7d74c99"
      },
      "execution_count": null,
      "outputs": [
        {
          "output_type": "execute_result",
          "data": {
            "text/plain": [
              "\"\\nCreate a function to calculate the vehicle density. The requirements are:\\n * three input parameters: `flow`, `speed`, and `density_limit` (default is 100)\\n * include an if-else statement to check if the speed parameter <= 0 to avoid division by zero errors.\\n   * If it is, set `density` to 0\\n   * Else, calculate `density` using the formula\\n * Use an if statement to see if `density` is greater than `density_limit`. If so, print a warning message, but don't alter `density`\\n * return a single variable `density`\\nTotal Points: 16\\n\""
            ],
            "application/vnd.google.colaboratory.intrinsic+json": {
              "type": "string"
            }
          },
          "metadata": {},
          "execution_count": 3
        }
      ]
    },
    {
      "cell_type": "code",
      "source": [
        "'''\n",
        "Create a function to calculate the traffic flow. The requirements are:\n",
        " * three input parameters: `speed`, `density`, and `reduction_factor` (default is 1.0)\n",
        " * Use an if statement to check if the reduction factor is less than or equal to 0 OR greater than 1.\n",
        "   * If it is, print an error message and set `reduction_factor` to 1.0\n",
        " * Calculate `flow` using the formula\n",
        " * return a single variable `flow`\n",
        "Total Points: 14\n",
        "'''\n"
      ],
      "metadata": {
        "id": "WSmMSZzLO6RF",
        "colab": {
          "base_uri": "https://localhost:8080/",
          "height": 72
        },
        "outputId": "15773338-6eb9-4e37-ae78-893425e115c3"
      },
      "execution_count": null,
      "outputs": [
        {
          "output_type": "execute_result",
          "data": {
            "text/plain": [
              "'\\nCreate a function to calculate the traffic flow. The requirements are:\\n * three input parameters: `speed`, `density`, and `reduction_factor` (default is 1.0)\\n * Use an if statement to check if the reduction factor is less than or equal to 0 OR greater than 1.\\n   * If it is, print an error message and set `reduction_factor` to 1.0\\n * Calculate `flow` using the formula\\n * return a single variable `flow`\\nTotal Points: 14\\n'"
            ],
            "application/vnd.google.colaboratory.intrinsic+json": {
              "type": "string"
            }
          },
          "metadata": {},
          "execution_count": 4
        }
      ]
    },
    {
      "cell_type": "markdown",
      "source": [
        "#### Calculate Traffic Densities\n",
        "Using the functions for `calculate_speed()` and `calculate_density()`, calculate traffic densities based on the distance, time, and flow values in the table below.\n",
        "\n",
        "| **Distance (km)** | **Time (hours)** | **Flow (vehicles/hour)** |\n",
        "|-------------------|------------------|--------------------------|\n",
        "| 120               | 2                | 1500                     |\n",
        "| 65                | 0.5              | 2000                     |\n",
        "| 40                | 1.2              | 3500                     |\n",
        "\n",
        "For each row in the table you will need to:\n",
        "* Calculate the average speed using distance and time\n",
        "* Print the speed\n",
        "* Calculate the density using the flow and the average speed you just calculated\n",
        "* Print the density\n",
        "\n",
        "You can do these steps sequentially for each row; you do not need to use a loop.\n",
        "\n",
        "_Total Points: 18_\n"
      ],
      "metadata": {
        "id": "d4PpiywnNvRV"
      }
    },
    {
      "cell_type": "code",
      "source": [
        "print(\"Scenario 1\")\n",
        "# Enter your code below to calculate speed and density for the first row\n",
        "\n",
        "\n",
        "print(\"Scenario 2\")\n",
        "# Enter your code below to calculate speed and density for the second row\n",
        "\n",
        "\n",
        "print(\"Scenario 3\")\n",
        "# Enter your code below to calculate speed and density for the third row\n",
        "\n"
      ],
      "metadata": {
        "colab": {
          "base_uri": "https://localhost:8080/"
        },
        "id": "qhmycYYSQPvr",
        "outputId": "ed6e0895-d38a-463a-e76e-b4bf9fa6b053"
      },
      "execution_count": null,
      "outputs": [
        {
          "output_type": "stream",
          "name": "stdout",
          "text": [
            "Scenario 1\n",
            "Scenario 2\n",
            "Scenario 3\n"
          ]
        }
      ]
    },
    {
      "cell_type": "markdown",
      "source": [
        "#### Calculate Traffic Flows\n",
        "Using the functions for `calculate_speed()` and `calculate_traffic_flow()`, calculate traffic flows based on the distance, time, density, and reduction factor values in the table below.\n",
        "\n",
        "| **Distance (km)** | **Time (hours)** | **Density (vehicles/km)** | **Reduction Factor** |\n",
        "|-------------------|------------------|---------------------------| --- |\n",
        "| 100               | 2                | 25                        | 1.0 |\n",
        "| 80                | 1.6              | 20                        | 1.2 |\n",
        "| 50                | 1                | 15                        | 0.8 |\n",
        "\n",
        "For each row in the table you will need to:\n",
        "* Calculate the average speed using distance and time\n",
        "* Print the speed\n",
        "* Calculate the flow using the density and the average speed you just calculated\n",
        "* Print the flow\n",
        "\n",
        "You can do these steps sequentially for each row; you do not need to use a loop.\n",
        "\n",
        "_Total Points: 18_"
      ],
      "metadata": {
        "id": "4MdLJpQvNwUc"
      }
    },
    {
      "cell_type": "code",
      "source": [
        "print(\"Scenario 1\")\n",
        "# Enter your code below to calculate speed and flow for the first row\n",
        "\n",
        "\n",
        "print(\"Scenario 2\")\n",
        "# Enter your code below to calculate speed and flow for the first row\n",
        "\n",
        "\n",
        "print(\"Scenario 3\")\n",
        "# Enter your code below to calculate speed and flow for the first row\n",
        "\n"
      ],
      "metadata": {
        "id": "VoHPH6byGFyk",
        "colab": {
          "base_uri": "https://localhost:8080/"
        },
        "outputId": "cb5046bb-7211-46fb-eae6-bb6664ae257f"
      },
      "execution_count": null,
      "outputs": [
        {
          "output_type": "stream",
          "name": "stdout",
          "text": [
            "Scenario 1\n",
            "Scenario 2\n",
            "Scenario 3\n"
          ]
        }
      ]
    },
    {
      "cell_type": "markdown",
      "source": [
        "---"
      ],
      "metadata": {
        "id": "HG7-2MuzHbZJ"
      }
    },
    {
      "cell_type": "markdown",
      "source": [
        "### **Roadway Capacity Analysis**\n",
        "Roadway capacity is a critical parameter in transportation engineering, representing the maximum number of vehicles a road can accommodate under specific conditions. Key components of roadway capacity include:\n",
        "\n",
        "#### **Lane Capacity ($C_{\\text{lane}}$)**\n",
        "The maximum number of vehicles that can pass through a single lane in one hour, primarily determined by the **headway** (time between consecutive vehicles).\n",
        "\n",
        "$$C_{\\text{lane}} = \\frac{3600}{\\text{Headway}}$$\n",
        "\n",
        "Where:\n",
        "- $C_{\\text{lane}}$: Lane capacity (vehicles/hour).\n",
        "- $\\text{Headway}$: Average time between vehicles (seconds).\n",
        "\n",
        "#### **Total Road Capacity ($C_{\\text{total}}$)**\n",
        "The total capacity of a road, which is the product of lane capacity and the number of lanes.\n",
        "\n",
        "$$C_{\\text{total}} = C_{\\text{lane}} \\cdot n_{\\text{lanes}}$$\n",
        "\n",
        "Where:\n",
        "- $C_{\\text{total}}$: Total road capacity (vehicles/hour).\n",
        "- $n_{\\text{lanes}}$: Total number of traffic lanes.\n",
        "\n",
        "#### **Traffic Demand**\n",
        "The volume of vehicles attempting to use the roadway during a given period, measured in vehicles per hour.\n"
      ],
      "metadata": {
        "id": "hmyu0RiI4g9Q"
      }
    },
    {
      "cell_type": "markdown",
      "source": [
        "\n",
        "#### Create Roadway Capacity Function\n",
        "In this part of the lab, you will define a Python function called `calculate_roadway_capacity()` to calculate roadway capacity using the formulas above. The function will take two input parameters:\n",
        "  * `headway`: Average time between vehicles (seconds)\n",
        "  * `num_lanes`: Number of lanes on the roadway\n",
        "\n",
        "1. First, check if the `headway` is less than or equal to zero. If so, set the value to 4 seconds.\n",
        "2. Next, calculate the individual lane capacity based on the headway\n",
        "2. Finally, calculate the entire roadway capacity based on the number of lanes\n",
        "3. Return the `total_capacity`\n",
        "\n",
        "_Total Points: 11_"
      ],
      "metadata": {
        "id": "xCFZr6gP1Rbj"
      }
    },
    {
      "cell_type": "code",
      "source": [
        "'''\n",
        "Create a function to calculate the roadway capacity. The requirements are:\n",
        " * two input parameters: `headway` and `num_lanes`\n",
        " * use an if statement to check if headway is less than zero\n",
        "  * if so, set headway to 4\n",
        " * calculate `lane_capacity` using the headway\n",
        " * calcualte `total_capacity` using the lane capacity and number of lanes\n",
        " * return `total_capacity`\n",
        "Total Points: 11\n",
        "'''\n"
      ],
      "metadata": {
        "id": "A0oFz5JS8XoM",
        "colab": {
          "base_uri": "https://localhost:8080/",
          "height": 72
        },
        "outputId": "d65d60ee-8e0a-47dc-dc16-6572ce662511"
      },
      "execution_count": null,
      "outputs": [
        {
          "output_type": "execute_result",
          "data": {
            "text/plain": [
              "'\\nCreate a function to calculate the roadway capacity. The requirements are:\\n * two input parameters: `headway` and `num_lanes`\\n * use an if statement to check if headway is less than zero\\n  * if so, set headway to 4\\n * calculate `lane_capacity` using the headway\\n * calcualte `total_capacity` using the lane capacity and number of lanes\\n * return `total_capacity`\\nTotal Points: 11\\n'"
            ],
            "application/vnd.google.colaboratory.intrinsic+json": {
              "type": "string"
            }
          },
          "metadata": {},
          "execution_count": 8
        }
      ]
    },
    {
      "cell_type": "markdown",
      "source": [
        "#### Calculate Roadway Capacities\n",
        "In this part of the lab, you will use data to calculate roadway capacities and compare them to the estimated traffic demand to see if the roadway meets the traffic demand.\n",
        "\n",
        "#### Sample Data\n",
        "| **Headway (s)** | **Lanes** | **Traffic Demand (vehicles/hour)** |\n",
        "|-----------------|---------------------|--------------------------|\n",
        "| 2.5             | 3                   | 4000                     |\n",
        "| 3.0             | 4                   | 5000                     |\n",
        "| 2.2             | 2                   | 3500                     |\n",
        "\n",
        "Use the comments in the code cell below to construct a for-loop to iterate through the data and calculate the total roadway capacity for each row of the table.\n",
        "\n",
        "_Total Points: 24_"
      ],
      "metadata": {
        "id": "ivb3tiHd54y9"
      }
    },
    {
      "cell_type": "code",
      "source": [
        "# sample data as a list of tuples where each element in the tuple corresponds to: (headway, lane, demand)\n",
        "data = [\n",
        "    (2.5, 3, 4000),\n",
        "    (3.0, 4, 5000),\n",
        "    (2.2, 2, 3500)\n",
        "]\n",
        "# Create a for-loop using enumerate to loop through each index and element in data (5 Points)\n",
        "\n",
        "  # Output the current data row (2 Points)\n",
        "\n",
        "  # Create headway, num_lanes, and traffic_demand vars from each tuple element (6 Points)\n",
        "\n",
        "\n",
        "\n",
        "  # Calculate the total roadway capacity (3 Points)\n",
        "\n",
        "  # Output the total capacity and the demand (2 Points)\n",
        "\n",
        "\n",
        "  # Use an if-else to print out if the roadway meets traffic demand or not based on the total capacity and demand (6 Points)\n"
      ],
      "metadata": {
        "id": "uwerYM202BLe"
      },
      "execution_count": null,
      "outputs": []
    },
    {
      "cell_type": "markdown",
      "source": [
        "---"
      ],
      "metadata": {
        "id": "gb-14D21Lk0R"
      }
    }
  ]
}