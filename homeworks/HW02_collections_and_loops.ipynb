{
  "nbformat": 4,
  "nbformat_minor": 0,
  "metadata": {
    "colab": {
      "provenance": []
    },
    "kernelspec": {
      "name": "python3",
      "display_name": "Python 3"
    },
    "language_info": {
      "name": "python"
    }
  },
  "cells": [
    {
      "cell_type": "markdown",
      "source": [
        "# Homework 2: Collections\n",
        "Working with lists, tuples, and sets\n",
        "\n",
        "### 💡 Learning Outcomes\n",
        "* Defining and working with `list`\n",
        "* Basic understanding of `set` and `tuple`\n",
        "* Defining and working with `dict`\n",
        "* Creating basic `while` loops\n",
        "* Creating basic `for` loops\n",
        "\n",
        "### 📅 Due Date\n",
        "Monday 02/03 by 11:00 AM CDT\n",
        "\n",
        "### Total Points\n",
        "* Graded Out Of: 100\n",
        "* Max Possible: 100"
      ],
      "metadata": {
        "id": "S3pbdwml1Fi0"
      }
    },
    {
      "cell_type": "markdown",
      "source": [
        "---"
      ],
      "metadata": {
        "id": "5tXCQ_st40OU"
      }
    },
    {
      "cell_type": "markdown",
      "source": [
        "## Python `list`\n",
        "Working with Python's most generic array: `list`\n",
        "\n",
        "_Total: 40 Points_"
      ],
      "metadata": {
        "id": "dHMAlD0e6b0v"
      }
    },
    {
      "cell_type": "markdown",
      "source": [
        "### Defining `list` Variables\n",
        "Practice defining variables of type `list`. Remember that these variables have elements enclosed in square brackets: `[ ]`"
      ],
      "metadata": {
        "id": "qmGnDmCp-MeC"
      }
    },
    {
      "cell_type": "markdown",
      "source": [
        "❓ **Question 1 (4 points)**\n",
        "\n",
        "Define four `list` variables below **with at least three elements each**:\n",
        "* `list` of `str`: all elements of the `list` variable are of type `str`\n",
        "* `list` of `int`: all elements of the `list` variable are of type `int`\n",
        "* `list` of `float`: all elements of the `list` variable are of type `float`\n",
        "* Mixed `list`: at least two elements of the `list` are of different types"
      ],
      "metadata": {
        "id": "vRo1yg2p7Svs"
      }
    },
    {
      "cell_type": "code",
      "source": [
        "# var 1 - list of str (1 Point)\n",
        "\n",
        "# var 2 - list of int (1 Point)\n",
        "\n",
        "# var 3 - list of float (1 Point)\n",
        "\n",
        "# var 4 - mixed list (1 Point)\n"
      ],
      "metadata": {
        "id": "9-gXPMPM7fu7"
      },
      "execution_count": null,
      "outputs": []
    },
    {
      "cell_type": "markdown",
      "source": [
        "### Accessing `list` elements\n",
        "Practice accessing different elements from a `list`. Use the variable name and square brackets with the index. Remember that Python collections are zero-indexed i.e. the first element is the \"zeroth\" element.\n",
        "```python\n",
        "sample_list = [\"dog\", 2, 3.99, True]\n",
        "print(sample_list[0]) # dog\n",
        "```"
      ],
      "metadata": {
        "id": "Yoy9USoXbiVu"
      }
    },
    {
      "cell_type": "markdown",
      "source": [
        "❓ **Question 2 (7 points)**\n",
        "\n",
        "1. Create a Python `list` called `prices` that contains 3 potential prices for items you might find at a grocery store.\n",
        "2. Store the sum of the first two items in a `float` variable.\n",
        "3. Output the result using a `print()` statement"
      ],
      "metadata": {
        "id": "hxN5_gib7heI"
      }
    },
    {
      "cell_type": "code",
      "source": [
        "# Create the `prices` variable (3 Points)\n",
        "\n",
        "# Store the sum of the first two elements of `prices` in a new variable (3 Points)\n",
        "\n",
        "# Output the result (1 Point)\n"
      ],
      "metadata": {
        "id": "iNW5zJo37yY5"
      },
      "execution_count": null,
      "outputs": []
    },
    {
      "cell_type": "markdown",
      "source": [
        "❓ **Question 3 (3 points)**\n",
        "\n",
        "I have a list of unknown length. I need to access the second-to-last element. How can I do this without knowing the length of list?"
      ],
      "metadata": {
        "id": "_MMZuIJe_LW8"
      }
    },
    {
      "cell_type": "markdown",
      "source": [],
      "metadata": {
        "id": "ZQRXfbRk_P8i"
      }
    },
    {
      "cell_type": "markdown",
      "source": [
        "### Slicing `list`\n",
        "You can access subsets of the original `list` by slicing:\n",
        "\n",
        "```python\n",
        "my_list_slice = my_list[start_index_inclusive:end_index_exclusive]\n",
        "```"
      ],
      "metadata": {
        "id": "6YlYugRQcoRp"
      }
    },
    {
      "cell_type": "markdown",
      "source": [
        "❓ **Question 4 (12 points)**\n",
        "\n",
        "1. Create a `list` of `str` that contains the colors of the rainbow: ROYGBIV (7 elements: Red, Orange, Yellow, Green, Blue, Indigo, Violet)\n",
        "2. Slice the first three elements into a new variable called `roy` and output it with `print()`\n",
        "3. Slice from the 5th element (inclusive) the end of the list, storing into a new variable called `biv`. Output this variable with `print()`"
      ],
      "metadata": {
        "id": "p6N8fiTddFpG"
      }
    },
    {
      "cell_type": "code",
      "source": [
        "# Create your list of rainbow colors (4 Points)\n",
        "\n",
        "# Slice the first three elements into a new variable named `roy` and output it (4 Points)\n",
        "\n",
        "\n",
        "# Slice the 5th element (inclusive) to the end into a new variable called `biv` and output it (4 Points)\n",
        "\n"
      ],
      "metadata": {
        "id": "Owj2w-z8dPJK"
      },
      "execution_count": null,
      "outputs": []
    },
    {
      "cell_type": "markdown",
      "source": [
        "### `list` Operations\n",
        "Practice with basic `list` operations"
      ],
      "metadata": {
        "id": "RMkBPtI_wNbH"
      }
    },
    {
      "cell_type": "markdown",
      "source": [
        "❓ **Question 5 (10 points)**\n",
        "\n",
        "1. Create two `list` of `int` both with three elements each\n",
        "2. Combine the two lists into one larger list\n",
        "3. Update the first value of the new list to zero"
      ],
      "metadata": {
        "id": "zjS9Hmytwkog"
      }
    },
    {
      "cell_type": "code",
      "source": [
        "# Create two lists with three integer elements each (6 Points)\n",
        "\n",
        "\n",
        "# Combine the two lists above into one larger list (2 Points)\n",
        "\n",
        "# Change the first value of the new list to zero (2 Points)\n"
      ],
      "metadata": {
        "id": "rIQqx_LQrtLx"
      },
      "execution_count": null,
      "outputs": []
    },
    {
      "cell_type": "markdown",
      "source": [
        "❓ **Question 6 (4 points)**\n",
        "\n",
        "Use list multiplication to create a `list` of 99 elements where each element is the integer 1. You should _not_ hardcode this variable i.e. do _not_ write:\n",
        "\n",
        "```python\n",
        "my_list = [1,1,1,1,...,1]\n",
        "```"
      ],
      "metadata": {
        "id": "O251XnjbsJe9"
      }
    },
    {
      "cell_type": "code",
      "source": [
        "# Create your list of 99 1s (3 Points)\n",
        "\n",
        "# Output the resulting list (1 Point)\n"
      ],
      "metadata": {
        "id": "ydYAF7URsjzl"
      },
      "execution_count": null,
      "outputs": []
    },
    {
      "cell_type": "markdown",
      "source": [
        "---"
      ],
      "metadata": {
        "id": "OrzwStA1IQEt"
      }
    },
    {
      "cell_type": "markdown",
      "source": [
        "## Python `set` and `tuple`\n",
        "Familiarity with these two variable types\n",
        "\n",
        "_Total: 18 Points_"
      ],
      "metadata": {
        "id": "0QNNbw24IRKk"
      }
    },
    {
      "cell_type": "markdown",
      "source": [
        "❓ **Question 7 (2 points)**\n",
        "\n",
        "In your own words, state at least one difference between a `set` and a `list`."
      ],
      "metadata": {
        "id": "lXrQcRmmIpIf"
      }
    },
    {
      "cell_type": "markdown",
      "source": [
        "Looking for one of two options:\n",
        "* A `set` can only contain unique elements while a `list` can contain repeated elements\n",
        "* A `set` is unordered while a `list` is ordered\n"
      ],
      "metadata": {
        "id": "mvKKCf-LKida"
      }
    },
    {
      "cell_type": "markdown",
      "source": [
        "❓ **Question 8 (10 points)**\n",
        "\n",
        "1. Create two `set` of three numbers each, ensuring the integer 8 is present in both\n",
        "2. Use the and operator `&` to create a new `set` of the overlap between the two `set` you just created\n",
        "3. Output the new `set`"
      ],
      "metadata": {
        "id": "KVAfZTA6pR3G"
      }
    },
    {
      "cell_type": "code",
      "source": [
        "# Create your two sets of length 3 with the integer 8 in each (6 points)\n",
        "\n",
        "\n",
        "# Create a new set of the overlap from the two above sets using the & operator (3 points)\n",
        "\n",
        "# Output the result (1 point)\n"
      ],
      "metadata": {
        "id": "xTvLvX3zppMn"
      },
      "execution_count": null,
      "outputs": []
    },
    {
      "cell_type": "markdown",
      "source": [
        "❓ **Question 9 (2 points)**\n",
        "\n",
        "In your own words, state at least one difference betwen a `tuple` and a `list`."
      ],
      "metadata": {
        "id": "9HgnkQRd2F_F"
      }
    },
    {
      "cell_type": "markdown",
      "source": [
        "A `tuple` is immutable while a `list` is mutable"
      ],
      "metadata": {
        "id": "cCa9AMPc2OXn"
      }
    },
    {
      "cell_type": "markdown",
      "source": [
        "❓ **Question 10 (4 points)**\n",
        "\n",
        "Create a `tuple` of `str` that contains the three types of modes of heat transfer."
      ],
      "metadata": {
        "id": "LjxPk-fUpDRq"
      }
    },
    {
      "cell_type": "code",
      "source": [
        "# create your str tuple of length 3 (4 Points)\n"
      ],
      "metadata": {
        "id": "QZaa7PBgpsnv"
      },
      "execution_count": null,
      "outputs": []
    },
    {
      "cell_type": "markdown",
      "source": [
        "---"
      ],
      "metadata": {
        "id": "bIL8HhatpvWX"
      }
    },
    {
      "cell_type": "markdown",
      "source": [
        "## Python `dict`\n",
        "Working with Python's json-like variable, the dictionary\n",
        "\n",
        "_Total: 22 Points_"
      ],
      "metadata": {
        "id": "2eCdz9f5qFXd"
      }
    },
    {
      "cell_type": "markdown",
      "source": [
        "❓ **Question 11 (2 points)**\n",
        "\n",
        "In Python, `set` and `dict` are both defined using curly brackets `{ }`. How does the Python interpreter know that you are defining a `dict` instead of a `set`? i.e. what is one differce between the two variable types?"
      ],
      "metadata": {
        "id": "H-_XhWL9nlGf"
      }
    },
    {
      "cell_type": "markdown",
      "source": [
        "A `dict` uses key-value pairs while a `set` only contains single elements"
      ],
      "metadata": {
        "id": "meEJbxIuoA0J"
      }
    },
    {
      "cell_type": "markdown",
      "source": [
        "❓ **Question 12 (20 points)**\n",
        "1. Create a `dict` with the following keys and adding the corresponding values.\n",
        "    * `name`: Your first name of type `str`\n",
        "    * `age`: Your age of type `int`\n",
        "    * `is_student`: Whether you are a student or not of type `bool`\n",
        "2. Access and output the `name` value of the `dict` you just created\n",
        "3. Update the value at `name` with your full name\n",
        "4. Add a new key called `major` to the `dict` and with a `str` value corresponding to your area of study\n",
        "5. Add a new key called `courses` and assign it a `list` of `str` that contains at least two of the courses your are currently signed up for this semester.\n",
        "6. Use the `del` command to delete the `is_student` key-value pair.\n",
        "6. Output the `dict`"
      ],
      "metadata": {
        "id": "vKtFDZDUtrhS"
      }
    },
    {
      "cell_type": "code",
      "source": [
        "# Define your dict below (6 Points)\n",
        "\n",
        "\n",
        "\n",
        "\n",
        "# Access and output name (2 Points)\n",
        "\n",
        "# Update the name field to your full name (2 Points)\n",
        "\n",
        "# Add `major` with your area of study (3 Points)\n",
        "\n",
        "# Add `courses` with at least two of your courses this semester (3 Points)\n",
        "\n",
        "# Delete the `is_student` key-value pair (3 Points)\n",
        "\n",
        "# Output the resulting dictionary (1 Point)\n"
      ],
      "metadata": {
        "id": "nQEs6_wluasD"
      },
      "execution_count": null,
      "outputs": []
    },
    {
      "cell_type": "markdown",
      "source": [
        "---"
      ],
      "metadata": {
        "id": "i66Hi2W2ABrR"
      }
    },
    {
      "cell_type": "markdown",
      "source": [
        "## `while` Loop\n",
        "Creating a basic `while` loop\n",
        "\n",
        "_Total: 10 Points_"
      ],
      "metadata": {
        "id": "oWcqSg4uCCMt"
      }
    },
    {
      "cell_type": "markdown",
      "source": [
        "❓ **Question 13 (10 points)**\n",
        "\n",
        "Use the comments in the code cell below to create a `while` loop that:\n",
        "1. Runs for 5 iterations\n",
        "2. Prints out the iteration number"
      ],
      "metadata": {
        "id": "fQ3mtMObCPNN"
      }
    },
    {
      "cell_type": "code",
      "source": [
        "# create an index variable called `i` and set it equal to 0 (2 Point)\n",
        "\n",
        "# create your while loop using a less-than boolean expression with `i` (4 Points)\n",
        "\n",
        "  # output the iteration number which will be one more than the value in `i` (3 Points)\n",
        "\n",
        "  # INCREASE THE VALUE OF `i` TO AVOID AN INFINITE LOOP! (1 Point)\n"
      ],
      "metadata": {
        "id": "1lMTvz2TC7to"
      },
      "execution_count": null,
      "outputs": []
    },
    {
      "cell_type": "markdown",
      "source": [
        "## `for` Loop\n",
        "Creating basic `for` loops\n",
        "\n",
        "_Total: 10 Points_"
      ],
      "metadata": {
        "id": "FY5n6addEFov"
      }
    },
    {
      "cell_type": "markdown",
      "source": [
        "❓ **Question 14 (5 points)**\n",
        "\n",
        "Use the comments in the code cell below to create a `for` loop that:\n",
        "1. Runs for 5 iterations\n",
        "2. Prints out the iteration number"
      ],
      "metadata": {
        "id": "GH6yrPBYEN5T"
      }
    },
    {
      "cell_type": "code",
      "source": [
        "# create the for loop using an index `i` and the `range()` function (3 Points)\n",
        "\n",
        "  # print out the iteration number which will be 1 more than the value of `i` (2 Points)\n"
      ],
      "metadata": {
        "id": "14PRg2lDEbfn"
      },
      "execution_count": null,
      "outputs": []
    },
    {
      "cell_type": "markdown",
      "source": [
        "❓ **Question 15 (5 points)**\n",
        "\n",
        "Use the comments in the code cell below to create a `for` loop that:\n",
        "1. Loops through each element in a list\n",
        "2. Prints out the list item"
      ],
      "metadata": {
        "id": "p8XjmrncEpY7"
      }
    },
    {
      "cell_type": "code",
      "source": [
        "# create a list of str containing at least three planets (1 Point)\n",
        "\n",
        "# create the for loop to iterate over each item in the list you just created (3 Points)\n",
        "\n",
        "  # print out the item (1 Point)\n"
      ],
      "metadata": {
        "id": "9F5w9GoSEtxo"
      },
      "execution_count": null,
      "outputs": []
    },
    {
      "cell_type": "markdown",
      "source": [
        "---"
      ],
      "metadata": {
        "id": "Q5LxPyAvIOzV"
      }
    }
  ]
}