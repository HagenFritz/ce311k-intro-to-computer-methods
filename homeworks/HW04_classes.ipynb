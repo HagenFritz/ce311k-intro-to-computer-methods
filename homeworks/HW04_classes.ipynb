{
  "nbformat": 4,
  "nbformat_minor": 0,
  "metadata": {
    "colab": {
      "provenance": []
    },
    "kernelspec": {
      "name": "python3",
      "display_name": "Python 3"
    },
    "language_info": {
      "name": "python"
    }
  },
  "cells": [
    {
      "cell_type": "markdown",
      "source": [
        "# Homework 4: Classes\n",
        "Creating and working with simple classes while also reviewing\n",
        "\n",
        "### 💡 Learning Outcomes\n",
        "* Defining and working with classes\n",
        "* Increased confidence with `list`, conditionals, loops, and functions\n",
        "\n",
        "### 📅 Due Date\n",
        "Friday 02/17 by 11:00 AM CDT\n",
        "\n",
        "### Total Points\n",
        "* Graded Out Of: 100\n",
        "* Max Possible: 105 (5 Potential Bonus Points)"
      ],
      "metadata": {
        "id": "S3pbdwml1Fi0"
      }
    },
    {
      "cell_type": "markdown",
      "source": [
        "---"
      ],
      "metadata": {
        "id": "5tXCQ_st40OU"
      }
    },
    {
      "cell_type": "markdown",
      "source": [
        "In this lab, you will be creating a class called `EnergyTracker` which will allow you to store data and perform calculats regarding home energy use. Each `EnergyTracker` object will represent a home."
      ],
      "metadata": {
        "id": "DrIFrQ-K78q4"
      }
    },
    {
      "cell_type": "markdown",
      "source": [
        "## `__init__` Method\n",
        "The `__init__()` method is an important method that is typically referred to as a classes' _constructor method_. This method will run whenever you instantiate a new object of that class.\n",
        "\n",
        "Let's look at this example of an `Employee` class.\n",
        "\n",
        "```python\n",
        "class Employee:\n",
        "  def __init__(self, name, department):\n",
        "    self.name = name\n",
        "    self.department = department\n",
        "```\n",
        "\n",
        "In this constructor, you can see that two input parameters are required: `name` and `department`. Values for these variables are required when creating and object and will be saved as object instance's _attributes_.\n",
        "\n",
        "### Example Usage\n",
        "\n",
        "```python\n",
        "# Create instances of the Employee class\n",
        "emp1 = Employee(\"Alice\", \"Engineering\")\n",
        "emp2 = Employee(name=\"Bob\", department=\"Marketing\") # Use keyword arguments\n",
        "\n",
        "# Access attributes directly\n",
        "print(emp1.name)        # Output: Alice\n",
        "print(emp2.department)  # Output: Marketing\n",
        "```\n",
        "\n",
        "A reminder about `self`:\n",
        "- `self` is a placeholder for the object instance itself. When calling a method or accessing an attribute, Python automatically passes the instance as the first argument to methods.\n",
        "- You **have** to include `self` as the first argument for any method in a class, but you will never actually pass any value in for this parameter."
      ],
      "metadata": {
        "id": "dHMAlD0e6b0v"
      }
    },
    {
      "cell_type": "markdown",
      "source": [
        "### ❓ **Question 1: Create the `EnergyTracker` Constructor**\n",
        "\n",
        "Use the example above to craft the `EnergyTracker` constructor method, `__init__()` based on these requirements:\n",
        "1. Create the class `EnergyTracker`\n",
        "2. Create the `__init__()` method with the following two parameters (don't forget the `self` either!):\n",
        "  * `id`: the identifier for the tracker\n",
        "  * `max_energy_limit`: max energy limit for the home in kWh\n",
        "3. In the constructor, set the object's `id` and `max_energy_limit` attributes to the parameters i.e. `self.var = var`\n",
        "4. Creat an attribute called `energy_usage` and set it equal to an empty `list` i.e. `self.list_var = []`\n",
        "\n",
        "_Total Points_: 13 Points"
      ],
      "metadata": {
        "id": "vRo1yg2p7Svs"
      }
    },
    {
      "cell_type": "code",
      "source": [],
      "metadata": {
        "id": "9-gXPMPM7fu7"
      },
      "execution_count": null,
      "outputs": []
    },
    {
      "cell_type": "markdown",
      "source": [
        "### ❓ **Question 2: Log Energy Usage**\n",
        "In this exercise, you will create a method within your `EnergyTracker` class that will add a new numeric value to the `energy_usage` attribute.\n",
        "\n",
        "❗ **Important**: You will need to continue adding to the `EnergyTracker` class. Copy the code you created in Question 1 and paste it in the code cell below.\n",
        "\n",
        "1. Within the `EnergyTracker` class, create a function called `log_energy_usage` which will take in one parameter (again, don't forget to have `self` too!):\n",
        "    * `usage`: `int` or `float` indicative of a day's worth of energy at the home\n",
        "2. Use an if-else statement to check if the usage value provided is less than 0.\n",
        "  * If it is, print out the following statement: \"Error: Energy usage cannot be negative.\"\n",
        "  * Else:\n",
        "    1. Append the `usage` parameter value to the class' `energy_usage` list attribute.\n",
        "    2. Print out a message that the usage value was added. Be sure to print a string message **and** the value that was added.\n",
        "\n",
        "_Total Points: 14_"
      ],
      "metadata": {
        "id": "hxN5_gib7heI"
      }
    },
    {
      "cell_type": "code",
      "source": [],
      "metadata": {
        "id": "iNW5zJo37yY5"
      },
      "execution_count": null,
      "outputs": []
    },
    {
      "cell_type": "markdown",
      "source": [
        "### ❓ **Question 3: Calculate the Total Energy Usage**\n",
        "Ccreate a method within your `EnergyTracker` class that will total the values in the `energy_usage` attribute.\n",
        "\n",
        "❗ **Important**: You will need to continue adding to the `EnergyTracker` class. Copy the code you created in Question 2 and paste it in the code cell below.\n",
        "\n",
        "1. Within the `EnergyTracker` class, create a function called `calculate_total_energy` which will **not** require any parameters (but `self needs to be there still!)\n",
        "2. Define a local variable `total` within the function and set it equal to zero.\n",
        "3. Use a for-loop to loop through each value in the class' `energy_usage` attribute. On each iteration of the loop, add the usage value to the total in a running sum\n",
        "4. `return` the `total`\n",
        "\n",
        "_Total Points: 15_"
      ],
      "metadata": {
        "id": "-xif3fPKEdtb"
      }
    },
    {
      "cell_type": "code",
      "source": [],
      "metadata": {
        "id": "KU8l8GVvE-Ro"
      },
      "execution_count": null,
      "outputs": []
    },
    {
      "cell_type": "markdown",
      "source": [
        "### ❓ **Question 4: Calculate the Average Energy Usage**\n",
        "Ccreate a method within your `EnergyTracker` class that will calculate the average energy usage.\n",
        "\n",
        "❗ **Important**: You will need to continue adding to the `EnergyTracker` class. Copy the code you created in Question 3 and paste it in the code cell below.\n",
        "\n",
        "1. Within the `EnergyTracker` class, create a function called `calculate_average_energy` which will **not** require any parameters (but `self needs to be there still!)\n",
        "2. Use the `len()` method to check if the length of the `energy_usage` attribute is equal to zero.\n",
        "    * If so, `return` the value zero\n",
        "3. Call the class' `calculate_total_energy()` method that you created in Question 3 and assign the output to a local variable called total i.e. `var = self.method_name()`\n",
        "4. Calculate the average energy by dividing `total` by the length of the `energy_usage` attribute and assign the result to a local variable called `avg_energy`.\n",
        "5. `return` the `avg_energy` variable\n",
        "\n",
        "_Total Points: 15_"
      ],
      "metadata": {
        "id": "Gabz8f0zKk1J"
      }
    },
    {
      "cell_type": "code",
      "source": [],
      "metadata": {
        "id": "IugOeUQ6K4F7"
      },
      "execution_count": null,
      "outputs": []
    },
    {
      "cell_type": "markdown",
      "source": [
        "### ❓ **Question 5: Get Days Over Limit**\n",
        "Create a function that checks the energy usage attribute value and returns two values: the number of days over the limit and the days when the energy limit was exceeded.\n",
        "\n",
        "❗ **Important**: You will need to continue adding to the `EnergyTracker` class. Copy the code you created in Question 4 and paste it in the code cell below.\n",
        "\n",
        "1. Create a function called `check_energy_limit` with **no** parameters\n",
        "2. Create two local variables within the function:\n",
        "  * `num_days`: an `int` to keep track of the number of days over the limit. Set the initial value to 0.\n",
        "  * `days_over_limit`: a `list` storing which days were over the limit. Set the initial value to an empty list: `[]`\n",
        "3. Use `enumerate()` to loop through each index and value of the `energy_usage` attribute. On each iteration of the loop:\n",
        "    1. Check if the usage value is greater than the `max_energy_limit` attribute\n",
        "    2. If so, increment the value of `num_days` and append the index+1 to `days_over_limit`\n",
        "4. `return` both `num_days` and `days_over_limit`\n",
        "\n",
        "_Total Points: 24_"
      ],
      "metadata": {
        "id": "_MMZuIJe_LW8"
      }
    },
    {
      "cell_type": "code",
      "source": [],
      "metadata": {
        "id": "ZQRXfbRk_P8i"
      },
      "execution_count": null,
      "outputs": []
    },
    {
      "cell_type": "markdown",
      "source": [
        "### ❓ **Question 6: Use `EnergyTracker**\n",
        "Now that you have [hopefully] successfully created the `EnergyTracker` class, it is time to use it!\n",
        "\n",
        "_Total Points: 24_\n"
      ],
      "metadata": {
        "id": "p6N8fiTddFpG"
      }
    },
    {
      "cell_type": "markdown",
      "source": [
        "Create an instance of the `EnergyTracker` object:\n",
        "* Call the object `my_house`\n",
        "* Use \"My House\" for the `id`\n",
        "* Set the `max_energy_limit` to 1000"
      ],
      "metadata": {
        "id": "_POP0ezDNf95"
      }
    },
    {
      "cell_type": "code",
      "source": [],
      "metadata": {
        "id": "5f8_BfWmeINn"
      },
      "execution_count": null,
      "outputs": []
    },
    {
      "cell_type": "markdown",
      "source": [
        "Add energy usage to `my_house`:\n",
        "* Create a list of 10 energy values. You can use whatever values you want, but at least three of them must be **less** than 1000 and at least three must be **greater** than 1000\n",
        "* Loop through the list variable that you just created and use the `log_energy_usage` function add each value in your list to the `energy_usage` attribute of `my_house`"
      ],
      "metadata": {
        "id": "fgJldXpcN65_"
      }
    },
    {
      "cell_type": "code",
      "source": [],
      "metadata": {
        "id": "3dR8jd24Oej1"
      },
      "execution_count": null,
      "outputs": []
    },
    {
      "cell_type": "markdown",
      "source": [
        "Calculate total and average usages:\n",
        "* Call the `calculate_total_energy()` method of `my_house` and print the result\n",
        "* Call the `calculate_average_energy()` method of `my_house` and print the result"
      ],
      "metadata": {
        "id": "rkcd7GmwPGz9"
      }
    },
    {
      "cell_type": "code",
      "source": [],
      "metadata": {
        "id": "XxcfoxpjPZIF"
      },
      "execution_count": null,
      "outputs": []
    },
    {
      "cell_type": "markdown",
      "source": [
        "Check the days over the limit:\n",
        "* Call the `check_energy_limit()` method and store the two return variables in variables of your choice\n",
        "* Print both the number of days over the limit and the list of days"
      ],
      "metadata": {
        "id": "cNm9RWVLPj-K"
      }
    },
    {
      "cell_type": "code",
      "source": [],
      "metadata": {
        "id": "WvofO2VYQBsQ"
      },
      "execution_count": null,
      "outputs": []
    },
    {
      "cell_type": "markdown",
      "source": [
        "---"
      ],
      "metadata": {
        "id": "OrzwStA1IQEt"
      }
    }
  ]
}