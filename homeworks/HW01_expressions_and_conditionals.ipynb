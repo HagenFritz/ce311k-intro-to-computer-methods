{
  "nbformat": 4,
  "nbformat_minor": 0,
  "metadata": {
    "colab": {
      "provenance": []
    },
    "kernelspec": {
      "name": "python3",
      "display_name": "Python 3"
    },
    "language_info": {
      "name": "python"
    }
  },
  "cells": [
    {
      "cell_type": "markdown",
      "source": [
        "# Homework 1: Expressions and Conditionals\n",
        "Working with arithmetic/boolean expressions and conditionals\n",
        "\n",
        "### 💡 Learning Outcomes\n",
        "* Defining and working with variables\n",
        "* Writing basic arithmetic expressions\n",
        "* Using conditionals to dicate flow\n",
        "\n",
        "### 📅 Due Date\n",
        "Friday 01/27 by 11:00 AM CDT\n",
        "\n",
        "### Total Points: 100"
      ],
      "metadata": {
        "id": "S3pbdwml1Fi0"
      }
    },
    {
      "cell_type": "markdown",
      "source": [
        "---"
      ],
      "metadata": {
        "id": "5tXCQ_st40OU"
      }
    },
    {
      "cell_type": "markdown",
      "source": [
        "## Defining Variables\n",
        "Valid naming in Python and common naming conventions\n",
        "\n",
        "_Total: 10 Points_"
      ],
      "metadata": {
        "id": "dHMAlD0e6b0v"
      }
    },
    {
      "cell_type": "markdown",
      "source": [
        "### Snake Case\n",
        "Pythonic way to write variable names: all lowercase with underscores\n",
        "```python\n",
        "user_age = 31            # Integer\n",
        "math_pi = 3.14           # Float\n",
        "first_name = \"Hagen\"     # String\n",
        "is_active = True         # Boolean\n",
        "```"
      ],
      "metadata": {
        "id": "X6Smv1A36ryX"
      }
    },
    {
      "cell_type": "markdown",
      "source": [
        "❓ **Question 1 (3 points)**\n",
        "\n",
        "Define three variables of three different types (`str`, `int`, etc.) using snake case. Note: your variables need to be at least two words long"
      ],
      "metadata": {
        "id": "vRo1yg2p7Svs"
      }
    },
    {
      "cell_type": "code",
      "source": [
        "# Variable 1\n",
        "\n",
        "# Variable 2\n",
        "\n",
        "# Variable 3\n"
      ],
      "metadata": {
        "id": "9-gXPMPM7fu7"
      },
      "execution_count": null,
      "outputs": []
    },
    {
      "cell_type": "markdown",
      "source": [
        "### Camel Case\n",
        "A general, more common way to define variables: lowercase first word with capitalized proceeding words with no spaces\n",
        "```python\n",
        "userAge = 31                # Integer\n",
        "mathPi = 3.14               # Float\n",
        "userFirstName = \"Hagen\"     # String\n",
        "isActive = True             # Boolean\n",
        "```"
      ],
      "metadata": {
        "id": "Yoy9USoXbiVu"
      }
    },
    {
      "cell_type": "markdown",
      "source": [
        "❓ **Question 2 (3 points)**\n",
        "\n",
        "Define three variables of three different types (`str`, `int`, etc.) using camel case. Note: your variables need to be at least two words long"
      ],
      "metadata": {
        "id": "hxN5_gib7heI"
      }
    },
    {
      "cell_type": "code",
      "source": [
        "# Variable 1\n",
        "\n",
        "# Variable 2\n",
        "\n",
        "# Variable 3\n"
      ],
      "metadata": {
        "id": "iNW5zJo37yY5"
      },
      "execution_count": null,
      "outputs": []
    },
    {
      "cell_type": "markdown",
      "source": [
        "### Pascal Case\n",
        "A modification on camelCase where the all words are titlecase.\n",
        "```python\n",
        "UserAge = 31                # Integer\n",
        "MathPi = 3.14               # Float\n",
        "UserFirstName = \"Hagen\"     # String\n",
        "IsActive = True             # Boolean\n",
        "```"
      ],
      "metadata": {
        "id": "p3UixocecQSH"
      }
    },
    {
      "cell_type": "markdown",
      "source": [
        "❓ **Question 3 (3 points)**\n",
        "\n",
        "Define three variables of three different types (`str`, `int`, etc.) using Pascal case. Note: your variables need to be at least two words long"
      ],
      "metadata": {
        "id": "_MMZuIJe_LW8"
      }
    },
    {
      "cell_type": "code",
      "source": [
        "# Variable 1\n",
        "\n",
        "# Variable 2\n",
        "\n",
        "# Variable 3\n"
      ],
      "metadata": {
        "id": "ZQRXfbRk_P8i"
      },
      "execution_count": null,
      "outputs": []
    },
    {
      "cell_type": "markdown",
      "source": [
        "### Call Caps\n",
        "Variable names typically used for constants: all capital letters with hypens for spaces\n",
        "```python\n",
        "MAX_ATTEMPTS = 3           # Integer\n",
        "MATH_PI = 3.14             # Float\n",
        "SAVE_FOLDER = \"data\"       # String\n",
        "DEV_ENV = True             # Boolean\n",
        "```"
      ],
      "metadata": {
        "id": "6YlYugRQcoRp"
      }
    },
    {
      "cell_type": "markdown",
      "source": [
        "❓ **Question 4 (3 points)**\n",
        "\n",
        "Define three variables of three different types (`str`, `int`, etc.) using all caps."
      ],
      "metadata": {
        "id": "p6N8fiTddFpG"
      }
    },
    {
      "cell_type": "code",
      "source": [
        "# Variable 1\n",
        "\n",
        "# Variable 2\n",
        "\n",
        "# Variable 3\n"
      ],
      "metadata": {
        "id": "Owj2w-z8dPJK"
      },
      "execution_count": null,
      "outputs": []
    },
    {
      "cell_type": "markdown",
      "source": [
        "---"
      ],
      "metadata": {
        "id": "OrzwStA1IQEt"
      }
    },
    {
      "cell_type": "markdown",
      "source": [
        "## Writing Arithmetic Expressions\n",
        "Replicating real-world equations in Python\n",
        "\n",
        "_Total: 30 Points_"
      ],
      "metadata": {
        "id": "0QNNbw24IRKk"
      }
    },
    {
      "cell_type": "markdown",
      "source": [
        "For the questions that follow:\n",
        "1. Define each of the variables used in the equation with _reasonable_ values\n",
        "2. Rewrite the equation in Python, saving the calculation to a variable\n",
        "3. Output the result\n",
        "\n",
        "Below is an example to help you\n"
      ],
      "metadata": {
        "id": "igWmVawCr0Od"
      }
    },
    {
      "cell_type": "markdown",
      "source": [
        "📘 **Example: Area of a Rectangle**\n",
        "\n",
        "$Area = \\ell \\times w$"
      ],
      "metadata": {
        "id": "9_Q8UZQbs7Gj"
      }
    },
    {
      "cell_type": "code",
      "source": [
        "# 1. Define each of the variables\n",
        "length = 10\n",
        "width = 4\n",
        "# 2. Rewrite the equation, storing the result\n",
        "area_rect = length * width\n",
        "# 3. Output the result\n",
        "print(area_rect)"
      ],
      "metadata": {
        "colab": {
          "base_uri": "https://localhost:8080/"
        },
        "id": "CxERte4fs-HT",
        "outputId": "ade27239-e889-4143-8866-8df92f5c7ed5"
      },
      "execution_count": null,
      "outputs": [
        {
          "output_type": "stream",
          "name": "stdout",
          "text": [
            "40\n"
          ]
        }
      ]
    },
    {
      "cell_type": "markdown",
      "source": [
        "❓ **Question 5: Area of a Triangle (10 points)**\n",
        "\n",
        "$Area = 0.5 \\times b \\times h$\n",
        "\n",
        "_Note: You do not need to define the constant 0.5 as a variable_"
      ],
      "metadata": {
        "id": "lXrQcRmmIpIf"
      }
    },
    {
      "cell_type": "code",
      "source": [
        "# 1. Define two variables (4 points)\n",
        "\n",
        "# 2. Rewrite the equation (5 points)\n",
        "\n",
        "# 3. Output the result (1 point)\n"
      ],
      "metadata": {
        "id": "mvKKCf-LKida"
      },
      "execution_count": null,
      "outputs": []
    },
    {
      "cell_type": "markdown",
      "source": [
        "❓ **Question 6: Celsius to Fahrenheit (8 points)**\n",
        "\n",
        "$F = C \\times \\frac{9}{5} + 32$"
      ],
      "metadata": {
        "id": "KVAfZTA6pR3G"
      }
    },
    {
      "cell_type": "code",
      "source": [
        "# 1. Define one variable (2 points)\n",
        "\n",
        "# 2. Rewrite the equation (5 points)\n",
        "\n",
        "# 3. Output the result (1 point)\n"
      ],
      "metadata": {
        "colab": {
          "base_uri": "https://localhost:8080/"
        },
        "id": "xTvLvX3zppMn",
        "outputId": "a2d6b6d1-9ed3-4052-e1bc-def97ead41a3"
      },
      "execution_count": null,
      "outputs": [
        {
          "output_type": "stream",
          "name": "stdout",
          "text": [
            "True\n"
          ]
        }
      ]
    },
    {
      "cell_type": "markdown",
      "source": [
        "❓ **Question 7: Kinetic Energy (12 points)**\n",
        "\n",
        "$KE = \\frac{1}{2}mv^2$"
      ],
      "metadata": {
        "id": "9HgnkQRd2F_F"
      }
    },
    {
      "cell_type": "code",
      "source": [
        "# 1. Define two variable (4 points)\n",
        "\n",
        "# 2. Rewrite the equation (7 points)\n",
        "\n",
        "# 3. Output the result (1 point)\n"
      ],
      "metadata": {
        "id": "cCa9AMPc2OXn"
      },
      "execution_count": null,
      "outputs": []
    },
    {
      "cell_type": "markdown",
      "source": [
        "💰 **Bonus: Compound Interest (10 _additional_ points)**\n",
        "\n",
        "$A = P \\left(1 + \\frac{R}{n} \\right)^{nT}$"
      ],
      "metadata": {
        "id": "dXRso5Uz2a-y"
      }
    },
    {
      "cell_type": "code",
      "source": [
        "# 1. Define four variables (4 points)\n",
        "\n",
        "# 2. Rewrite the equation (5 points)\n",
        "\n",
        "# 3. Output the result (1 point)\n"
      ],
      "metadata": {
        "id": "AZyJYLC02u4D"
      },
      "execution_count": null,
      "outputs": []
    },
    {
      "cell_type": "markdown",
      "source": [
        "---"
      ],
      "metadata": {
        "id": "bIL8HhatpvWX"
      }
    },
    {
      "cell_type": "markdown",
      "source": [
        "## Conditionals\n",
        "Writing boolean expressions and using `if` statements\n",
        "\n",
        "_Total: 60 Points_"
      ],
      "metadata": {
        "id": "2eCdz9f5qFXd"
      }
    },
    {
      "cell_type": "markdown",
      "source": [
        "### Boolean Expressions\n",
        "Creating simple and compound true/false expressions"
      ],
      "metadata": {
        "id": "ZB21AuBX766n"
      }
    },
    {
      "cell_type": "markdown",
      "source": [
        "❓ **Question 8 (14 points)**\n",
        "\n",
        "Use typical math inequalities to create **four different** conditional expressions that **evaluate to false**, setting their result to some dummy variable (you don't need to output the value). Below is an example to follow.\n",
        "\n",
        "```python\n",
        "x = 2\n",
        "y = 5\n",
        "result = x < y\n",
        "```"
      ],
      "metadata": {
        "id": "vKtFDZDUtrhS"
      }
    },
    {
      "cell_type": "code",
      "source": [
        "# Define at least two variables to use in your expressions (2 points)\n",
        "\n",
        "\n",
        "# 1. Expression 1 (3 points)\n",
        "\n",
        "# 2. Expression 2 (3 points)\n",
        "\n",
        "# 3. Expression 3 (3 points)\n",
        "\n",
        "# 4. Expression 4 (3 points)\n"
      ],
      "metadata": {
        "id": "nQEs6_wluasD"
      },
      "execution_count": null,
      "outputs": []
    },
    {
      "cell_type": "markdown",
      "source": [
        "❓ **Question 9 (12 points)**\n",
        "\n",
        "Use the `or` and `and` logical operators to create **two** compound boolean expressions **that evaluate to true** using each operator, respectively. Below is an example to help you:\n",
        "\n",
        "```python\n",
        "x = 2\n",
        "y = 5\n",
        "result = (x < 3) and (y == 5)\n",
        "```"
      ],
      "metadata": {
        "id": "9fDVRW4Suq9I"
      }
    },
    {
      "cell_type": "code",
      "source": [
        "# Define at least two variables to use in your expressions (2 points)\n",
        "\n",
        "\n",
        "# 1. Expression 1: use `or` (5 points)\n",
        "\n",
        "# 2. Expression 2: use `and` (5 points)\n"
      ],
      "metadata": {
        "id": "XByvPPjG-SHu"
      },
      "execution_count": null,
      "outputs": []
    },
    {
      "cell_type": "markdown",
      "source": [
        "### Conditional Statements\n",
        "Using `if` and `else` to dictate your code's flow"
      ],
      "metadata": {
        "id": "PZ8XeJzZACsq"
      }
    },
    {
      "cell_type": "markdown",
      "source": [
        "❓ **Question 10 (10 points)**\n",
        "\n",
        "Create a code snippet following these instructions:\n",
        "\n",
        "1. **Define a single `int` variable**: use any name you like and assign it a value e.g. x = 10.\n",
        "2. **Write a conditional block**:\n",
        "    * use an `if` statement to check a condition based on the variable.\n",
        "    * follow the `if` clause with an `else` clause to handle cases where the condition is not met\n",
        "3. **Add `print()` statements**:\n",
        "    * Inside the `if` block, include a `print()` statement that outputs a message indicating the `if` block was reached.\n",
        "    * Inside the `else` block, include a different `print()` statement that outputs a message indicating the `else` block was reached."
      ],
      "metadata": {
        "id": "hfMMQ30v-XUf"
      }
    },
    {
      "cell_type": "code",
      "source": [
        "# define your integer variable (2 points)\n",
        "\n",
        "# write the conditional if-else block including print statements (8 points)\n"
      ],
      "metadata": {
        "id": "7NH2e8rB-pGJ"
      },
      "execution_count": null,
      "outputs": []
    },
    {
      "cell_type": "markdown",
      "source": [
        "❓ **Question 11 (2 points)**\n",
        "\n",
        "Based on the conditional block you created in Question 10, what value of the variable you defined would cause the `print()` statement in the **`if` clause** to execute?"
      ],
      "metadata": {
        "id": "hsVNGe2L-_m0"
      }
    },
    {
      "cell_type": "markdown",
      "source": [],
      "metadata": {
        "id": "SKy5q7N4_3jH"
      }
    },
    {
      "cell_type": "markdown",
      "source": [
        "❓ **Question 12 (2 points)**\n",
        "\n",
        "Conversely, based on the conditional block you created in Question 10, what value of the variable you defined would cause the `print()` statement in the **`else` clause** to execute?"
      ],
      "metadata": {
        "id": "7cm-A0w4DcQq"
      }
    },
    {
      "cell_type": "markdown",
      "source": [],
      "metadata": {
        "id": "YjfpqfrgDn7Y"
      }
    },
    {
      "cell_type": "markdown",
      "source": [
        "❓ **Question 13 (14 points)**\n",
        "\n",
        "Create another code snippet following these instructions:\n",
        "\n",
        "1. **Define a single `float` variable**: use any name you like and assign it a value e.g. y = 12.5.\n",
        "2. **Write a conditional block**:\n",
        "    * use an `if` statement to check a condition based on the variable.\n",
        "    * use an `elif` statement to check another condition.\n",
        "    * follow the `elif` block with an `else` clause to handle cases where neither condition is met\n",
        "3. **Add `print()` statements**:\n",
        "    * Inside the `if` block, include a `print()` statement that outputs a message indicating the `if` block was reached.\n",
        "    * Inside the `elif` block, include a different `print()` statement that outputs a message indicating the `elif` block was reached.\n",
        "    * Inside the `else` block, include a `print()` statement that outputs a different message indicating the `else` block was reached."
      ],
      "metadata": {
        "id": "95FsaKnCFA3G"
      }
    },
    {
      "cell_type": "code",
      "source": [
        "# define your float variable (2 points)\n",
        "\n",
        "# write the conditional if-elif-else block including print statements (12 points)\n"
      ],
      "metadata": {
        "id": "87VomOEGGAi1"
      },
      "execution_count": null,
      "outputs": []
    },
    {
      "cell_type": "markdown",
      "source": [
        "❓ **Question 14 (2 points)**\n",
        "\n",
        "Based on the conditional block you created in Question 13, what value of the variable you defined would cause the `print()` statement in the **`if` clause** to execute?"
      ],
      "metadata": {
        "id": "59hroIBJGcv9"
      }
    },
    {
      "cell_type": "markdown",
      "source": [],
      "metadata": {
        "id": "05nEWpb4GjsJ"
      }
    },
    {
      "cell_type": "markdown",
      "source": [
        "❓ **Question 15 (2 points)**\n",
        "\n",
        "Based on the conditional block you created in Question 13, what value of the variable you defined would cause the `print()` statement in the **`elif` clause** to execute?"
      ],
      "metadata": {
        "id": "jwxceHzMGk0O"
      }
    },
    {
      "cell_type": "markdown",
      "source": [],
      "metadata": {
        "id": "fbkXk-IEGrq-"
      }
    },
    {
      "cell_type": "markdown",
      "source": [
        "❓ **Question 16 (2 points)**\n",
        "\n",
        "Based on the conditional block you created in Question 13, what value of the variable you defined would cause the `print()` statement in the **`else` clause** to execute?"
      ],
      "metadata": {
        "id": "Ntb55Q91GsWk"
      }
    },
    {
      "cell_type": "markdown",
      "source": [],
      "metadata": {
        "id": "ZyQIcarJGu_f"
      }
    },
    {
      "cell_type": "markdown",
      "source": [
        "---"
      ],
      "metadata": {
        "id": "i66Hi2W2ABrR"
      }
    }
  ]
}