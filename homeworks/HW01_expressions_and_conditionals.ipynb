{
  "nbformat": 4,
  "nbformat_minor": 0,
  "metadata": {
    "colab": {
      "provenance": []
    },
    "kernelspec": {
      "name": "python3",
      "display_name": "Python 3"
    },
    "language_info": {
      "name": "python"
    }
  },
  "cells": [
    {
      "cell_type": "markdown",
      "source": [
        "# Homework 1: Expressions and Conditionals\n",
        "Working with arithmetic/boolean expressions and conditionals\n",
        "\n",
        "### 💡 Learning Outcomes\n",
        "* Defining and working with variables\n",
        "* Writing basic arithmetic expressions\n",
        "* Using conditionals to dicate flow\n",
        "\n",
        "### 📅 Due Date\n",
        "Monday 01/27 by 11:00 AM CDT\n",
        "\n",
        "### Total Points\n",
        "* Graded Out Of: 150\n",
        "* Max Possible: 160 (10 Potential Bonus Points)"
      ],
      "metadata": {
        "id": "S3pbdwml1Fi0"
      }
    },
    {
      "cell_type": "markdown",
      "source": [
        "---"
      ],
      "metadata": {
        "id": "5tXCQ_st40OU"
      }
    },
    {
      "cell_type": "markdown",
      "source": [
        "## Defining Variables\n",
        "Valid naming in Python and common naming conventions\n",
        "\n",
        "_Total: 24 Points_"
      ],
      "metadata": {
        "id": "dHMAlD0e6b0v"
      }
    },
    {
      "cell_type": "markdown",
      "source": [
        "### Snake Case\n",
        "Pythonic way to write variable names: all lowercase with underscores\n",
        "```python\n",
        "user_age = 31            # Integer\n",
        "math_pi = 3.14           # Float\n",
        "first_name = \"Hagen\"     # String\n",
        "is_active = True         # Boolean\n",
        "```"
      ],
      "metadata": {
        "id": "X6Smv1A36ryX"
      }
    },
    {
      "cell_type": "markdown",
      "source": [
        "❓ **Question 1 (6 points)**\n",
        "\n",
        "Define three variables of three different types (`str`, `int`, etc.) using snake case. Note: your variables need to be at least two words long"
      ],
      "metadata": {
        "id": "vRo1yg2p7Svs"
      }
    },
    {
      "cell_type": "code",
      "source": [
        "# Variable 1\n",
        "\n",
        "# Variable 2\n",
        "\n",
        "# Variable 3\n"
      ],
      "metadata": {
        "id": "9-gXPMPM7fu7"
      },
      "execution_count": 5,
      "outputs": []
    },
    {
      "cell_type": "markdown",
      "source": [
        "### Camel Case\n",
        "A general, more common way to define variables: lowercase first word with capitalized proceeding words with no spaces\n",
        "```python\n",
        "userAge = 31                # Integer\n",
        "mathPi = 3.14               # Float\n",
        "userFirstName = \"Hagen\"     # String\n",
        "isActive = True             # Boolean\n",
        "```"
      ],
      "metadata": {
        "id": "Yoy9USoXbiVu"
      }
    },
    {
      "cell_type": "markdown",
      "source": [
        "❓ **Question 2 (6 points)**\n",
        "\n",
        "Define three variables of three different types (`str`, `int`, etc.) using camel case. Note: your variables need to be at least two words long"
      ],
      "metadata": {
        "id": "hxN5_gib7heI"
      }
    },
    {
      "cell_type": "code",
      "source": [
        "# Variable 1\n",
        "\n",
        "# Variable 2\n",
        "\n",
        "# Variable 3\n"
      ],
      "metadata": {
        "id": "iNW5zJo37yY5"
      },
      "execution_count": 6,
      "outputs": []
    },
    {
      "cell_type": "markdown",
      "source": [
        "### Pascal Case\n",
        "A modification on camelCase where the all words are titlecase.\n",
        "```python\n",
        "UserAge = 31                # Integer\n",
        "MathPi = 3.14               # Float\n",
        "UserFirstName = \"Hagen\"     # String\n",
        "IsActive = True             # Boolean\n",
        "```"
      ],
      "metadata": {
        "id": "p3UixocecQSH"
      }
    },
    {
      "cell_type": "markdown",
      "source": [
        "❓ **Question 3 (6 points)**\n",
        "\n",
        "Define three variables of three different types (`str`, `int`, etc.) using Pascal case. Note: your variables need to be at least two words long"
      ],
      "metadata": {
        "id": "_MMZuIJe_LW8"
      }
    },
    {
      "cell_type": "code",
      "source": [
        "# Variable 1\n",
        "\n",
        "# Variable 2\n",
        "\n",
        "# Variable 3\n"
      ],
      "metadata": {
        "id": "ZQRXfbRk_P8i"
      },
      "execution_count": 7,
      "outputs": []
    },
    {
      "cell_type": "markdown",
      "source": [
        "### All Caps\n",
        "Variable names typically used for constants: all capital letters with hypens for spaces\n",
        "```python\n",
        "MAX_ATTEMPTS = 3           # Integer\n",
        "MATH_PI = 3.14             # Float\n",
        "SAVE_FOLDER = \"data\"       # String\n",
        "DEV_ENV = True             # Boolean\n",
        "```"
      ],
      "metadata": {
        "id": "6YlYugRQcoRp"
      }
    },
    {
      "cell_type": "markdown",
      "source": [
        "❓ **Question 4 (6 points)**\n",
        "\n",
        "Define three variables of three different types (`str`, `int`, etc.) using all caps."
      ],
      "metadata": {
        "id": "p6N8fiTddFpG"
      }
    },
    {
      "cell_type": "code",
      "source": [
        "# Variable 1\n",
        "\n",
        "# Variable 2\n",
        "\n",
        "# Variable 3\n"
      ],
      "metadata": {
        "id": "Owj2w-z8dPJK"
      },
      "execution_count": 8,
      "outputs": []
    },
    {
      "cell_type": "markdown",
      "source": [
        "---"
      ],
      "metadata": {
        "id": "OrzwStA1IQEt"
      }
    },
    {
      "cell_type": "markdown",
      "source": [
        "## Checking Data Type\n",
        "Using Python's built-in functions: `type()` and `isinstance()`.\n",
        "\n",
        "❗Be sure to run the code cell below❗\n",
        "\n",
        "_Total: 21 Points_"
      ],
      "metadata": {
        "id": "3aCviaMHOKWC"
      }
    },
    {
      "cell_type": "code",
      "source": [
        "word = \"engineer\"\n",
        "year = 2025\n",
        "temperature = 70.2\n",
        "is_active = True"
      ],
      "metadata": {
        "id": "HROYcpJqKjQ5"
      },
      "execution_count": 9,
      "outputs": []
    },
    {
      "cell_type": "markdown",
      "source": [
        "❓ **Question 5 (9 points)**\n",
        "\n",
        "Practice using the `type()` function in the code cell below to output the data type. Follow the example that has been done for `word` where you save the output from `type()` into a variable and then print it out.\n",
        "\n",
        "See [here](https://www.geeksforgeeks.org/python-type-function/) to learn more about this function."
      ],
      "metadata": {
        "id": "KJ1F4XpxOKWD"
      }
    },
    {
      "cell_type": "code",
      "source": [
        "# string\n",
        "word_type = type(word)\n",
        "print(word_type)\n",
        "\n",
        "# integer\n",
        "\n",
        "\n",
        "# float\n",
        "\n",
        "\n",
        "# boolean\n",
        "\n"
      ],
      "metadata": {
        "colab": {
          "base_uri": "https://localhost:8080/"
        },
        "outputId": "58e699c9-f62c-499e-de8b-188843ffe41f",
        "id": "v5BqBxUsOKWD"
      },
      "execution_count": 10,
      "outputs": [
        {
          "output_type": "stream",
          "name": "stdout",
          "text": [
            "<class 'str'>\n"
          ]
        }
      ]
    },
    {
      "cell_type": "markdown",
      "source": [
        "❓ **Question 6 (12 points)**\n",
        "\n",
        "Practice using the `isinstance()` function in the code cell below to output the data type. Follow the example that has been done for `word` where you save boolean output from `isinstance()` into a variable and then print it out.\n",
        "\n",
        "See [here](https://www.w3schools.com/python/ref_func_isinstance.asp) to learn more about how to use this function."
      ],
      "metadata": {
        "id": "729UF5s7OKWD"
      }
    },
    {
      "cell_type": "code",
      "source": [
        "# string\n",
        "is_str = isinstance(word, str)\n",
        "print(is_str)\n",
        "\n",
        "# integer\n",
        "\n",
        "\n",
        "# float\n",
        "\n",
        "\n",
        "# boolean\n",
        "\n"
      ],
      "metadata": {
        "colab": {
          "base_uri": "https://localhost:8080/"
        },
        "outputId": "b7e985bf-5795-46dd-bb3b-ce4a51f6c160",
        "id": "l_8az2VNOKWE"
      },
      "execution_count": 11,
      "outputs": [
        {
          "output_type": "stream",
          "name": "stdout",
          "text": [
            "True\n"
          ]
        }
      ]
    },
    {
      "cell_type": "markdown",
      "source": [
        "---"
      ],
      "metadata": {
        "id": "duc9XlaBOKWE"
      }
    },
    {
      "cell_type": "markdown",
      "source": [
        "## Type Casting\n",
        "Practice using the following built-in functions:\n",
        "* `str()`\n",
        "* `int()`\n",
        "* `float()`\n",
        "* `bool()`\n",
        "\n",
        "_Total: 12 Points_"
      ],
      "metadata": {
        "id": "obx7fhFCOnlT"
      }
    },
    {
      "cell_type": "markdown",
      "source": [
        "❓ **Question 7 (3 points)**\n",
        "\n",
        "Cast the following variable to a string with `str()` and save the result into a variable. After you cast it, be sure to show the output with `print()`."
      ],
      "metadata": {
        "id": "A2Lo8lSIOnlT"
      }
    },
    {
      "cell_type": "code",
      "source": [
        "cost = 18.99\n",
        "# cast the cost variable and save it to a variable called cost_str (2 Points)\n",
        "\n",
        "# print cost_str (1 Point)\n"
      ],
      "metadata": {
        "id": "b4QQyWVVOnlT"
      },
      "execution_count": 12,
      "outputs": []
    },
    {
      "cell_type": "markdown",
      "source": [
        "❓ **Question 8 (3 points)**\n",
        "\n",
        "Cast the following string variable to an integer with `int()` and save the result into a variable. After you cast it, be sure to show the output with `print()`."
      ],
      "metadata": {
        "id": "sYQJVELxOnlU"
      }
    },
    {
      "cell_type": "code",
      "source": [
        "october = \"10\"\n",
        "# cast the october variable and save it to a variable called october_int (2 Points)\n",
        "\n",
        "# print october_int (1 Point)\n"
      ],
      "metadata": {
        "id": "baib8touOnlU"
      },
      "execution_count": 13,
      "outputs": []
    },
    {
      "cell_type": "markdown",
      "source": [
        "❓ **Question 9 (3 points)**\n",
        "\n",
        "Cast the following string variable to a float with `float()` and save the result into a variable. After you cast it, be sure to show the output with `print()`."
      ],
      "metadata": {
        "id": "SRFkBd4FOnlU"
      }
    },
    {
      "cell_type": "code",
      "source": [
        "price_str = \"11.99\"\n",
        "# cast the price_Str variable and save it to a variable called price (2 Points)\n",
        "\n",
        "# print cost\n"
      ],
      "metadata": {
        "id": "A4r9JCHYOnlU"
      },
      "execution_count": 14,
      "outputs": []
    },
    {
      "cell_type": "markdown",
      "source": [
        "❓ **Question 10 (3 points)**\n",
        "\n",
        "Cast the following integer variable to a boolean with `bool()` and save the result into a variable. After you cast it, be sure to show the output with `print()`."
      ],
      "metadata": {
        "id": "-w6lmIHYOnlU"
      }
    },
    {
      "cell_type": "code",
      "source": [
        "flag_int = 0\n",
        "# cast the flag_int variable and save it to a variable called flag (2 Points)\n",
        "\n",
        "# print flag (1 Point)\n"
      ],
      "metadata": {
        "id": "ufk5d-DNOnlU"
      },
      "execution_count": 15,
      "outputs": []
    },
    {
      "cell_type": "markdown",
      "source": [
        "---"
      ],
      "metadata": {
        "id": "qvRlLXtdOnlV"
      }
    },
    {
      "cell_type": "markdown",
      "source": [
        "## Writing Arithmetic Expressions\n",
        "Replicating real-world equations in Python\n",
        "\n",
        "_Total: 31 Points_"
      ],
      "metadata": {
        "id": "0QNNbw24IRKk"
      }
    },
    {
      "cell_type": "markdown",
      "source": [
        "For the questions that follow:\n",
        "1. Define each of the variables used in the equation with _reasonable_ values\n",
        "2. Rewrite the equation in Python, saving the calculation to a variable\n",
        "3. Output the result\n",
        "\n",
        "Below is an example to help you\n"
      ],
      "metadata": {
        "id": "igWmVawCr0Od"
      }
    },
    {
      "cell_type": "markdown",
      "source": [
        "📘 **Example: Area of a Rectangle**\n",
        "\n",
        "$Area = \\ell \\times w$"
      ],
      "metadata": {
        "id": "9_Q8UZQbs7Gj"
      }
    },
    {
      "cell_type": "code",
      "source": [
        "# 1. Define each of the variables\n",
        "length = 10\n",
        "width = 4\n",
        "# 2. Rewrite the equation, storing the result\n",
        "area_rect = length * width\n",
        "# 3. Output the result\n",
        "print(area_rect)"
      ],
      "metadata": {
        "colab": {
          "base_uri": "https://localhost:8080/"
        },
        "id": "CxERte4fs-HT",
        "outputId": "811a7084-c3d0-4bfe-f0a9-14b0c738b8cb"
      },
      "execution_count": 16,
      "outputs": [
        {
          "output_type": "stream",
          "name": "stdout",
          "text": [
            "40\n"
          ]
        }
      ]
    },
    {
      "cell_type": "markdown",
      "source": [
        "❓ **Question 11: Area of a Triangle (10 points)**\n",
        "\n",
        "$Area = 0.5 \\times b \\times h$\n",
        "\n",
        "_Note: You do not need to define the constant 0.5 as a variable_"
      ],
      "metadata": {
        "id": "lXrQcRmmIpIf"
      }
    },
    {
      "cell_type": "code",
      "source": [
        "# 1. Define two variables (4 points)\n",
        "\n",
        "# 2. Rewrite the equation (5 points)\n",
        "\n",
        "# 3. Output the result (1 point)\n"
      ],
      "metadata": {
        "id": "mvKKCf-LKida"
      },
      "execution_count": 17,
      "outputs": []
    },
    {
      "cell_type": "markdown",
      "source": [
        "❓ **Question 12: Celsius to Fahrenheit (8 points)**\n",
        "\n",
        "$F = C \\times \\frac{9}{5} + 32$"
      ],
      "metadata": {
        "id": "KVAfZTA6pR3G"
      }
    },
    {
      "cell_type": "code",
      "source": [
        "# 1. Define one variable (2 points)\n",
        "\n",
        "# 2. Rewrite the equation (6 points)\n",
        "\n",
        "# 3. Output the result (1 point)\n"
      ],
      "metadata": {
        "id": "xTvLvX3zppMn"
      },
      "execution_count": 18,
      "outputs": []
    },
    {
      "cell_type": "markdown",
      "source": [
        "❓ **Question 13: Kinetic Energy (12 points)**\n",
        "\n",
        "$KE = \\frac{1}{2}mv^2$"
      ],
      "metadata": {
        "id": "9HgnkQRd2F_F"
      }
    },
    {
      "cell_type": "code",
      "source": [
        "# 1. Define two variable (4 points)\n",
        "\n",
        "# 2. Rewrite the equation (7 points)\n",
        "\n",
        "# 3. Output the result (1 point)\n"
      ],
      "metadata": {
        "id": "cCa9AMPc2OXn"
      },
      "execution_count": 19,
      "outputs": []
    },
    {
      "cell_type": "markdown",
      "source": [
        "💰 **Bonus: Compound Interest (10 _additional_ points)**\n",
        "\n",
        "$A = P \\left(1 + \\frac{R}{n} \\right)^{nT}$"
      ],
      "metadata": {
        "id": "dXRso5Uz2a-y"
      }
    },
    {
      "cell_type": "code",
      "source": [
        "# 1. Define four variables (4 points)\n",
        "\n",
        "# 2. Rewrite the equation (5 points)\n",
        "\n",
        "# 3. Output the result (1 point)\n"
      ],
      "metadata": {
        "id": "AZyJYLC02u4D"
      },
      "execution_count": 20,
      "outputs": []
    },
    {
      "cell_type": "markdown",
      "source": [
        "---"
      ],
      "metadata": {
        "id": "bIL8HhatpvWX"
      }
    },
    {
      "cell_type": "markdown",
      "source": [
        "## Conditionals\n",
        "Writing boolean expressions and using `if` statements\n",
        "\n",
        "_Total: 62 Points_"
      ],
      "metadata": {
        "id": "2eCdz9f5qFXd"
      }
    },
    {
      "cell_type": "markdown",
      "source": [
        "### Boolean Expressions\n",
        "Creating simple and compound true/false expressions"
      ],
      "metadata": {
        "id": "ZB21AuBX766n"
      }
    },
    {
      "cell_type": "markdown",
      "source": [
        "❓ **Question 14 (15 points)**\n",
        "\n",
        "Use typical math inequalities to create **four different** conditional expressions that **evaluate to false**, setting their result to some dummy variable (you don't need to output the value). Below is an example to follow.\n",
        "\n",
        "```python\n",
        "x = 2\n",
        "y = 5\n",
        "result = x < y\n",
        "```"
      ],
      "metadata": {
        "id": "vKtFDZDUtrhS"
      }
    },
    {
      "cell_type": "code",
      "source": [
        "# Define at least two variables to use in your expressions (3 points)\n",
        "\n",
        "\n",
        "# 1. Expression 1 (3 points)\n",
        "\n",
        "# 2. Expression 2 (3 points)\n",
        "\n",
        "# 3. Expression 3 (3 points)\n",
        "\n",
        "# 4. Expression 4 (3 points)\n"
      ],
      "metadata": {
        "id": "nQEs6_wluasD"
      },
      "execution_count": 21,
      "outputs": []
    },
    {
      "cell_type": "markdown",
      "source": [
        "❓ **Question 15 (13 points)**\n",
        "\n",
        "Use the `or` and `and` logical operators to create **two** compound boolean expressions **that evaluate to true** using each operator, respectively. Below is an example to help you:\n",
        "\n",
        "```python\n",
        "x = 2\n",
        "y = 5\n",
        "result = (x < 3) and (y == 5)\n",
        "```"
      ],
      "metadata": {
        "id": "9fDVRW4Suq9I"
      }
    },
    {
      "cell_type": "code",
      "source": [
        "# Define at least two variables to use in your expressions (3 points)\n",
        "\n",
        "\n",
        "# 1. Expression 1: use `or` (5 points)\n",
        "\n",
        "# 2. Expression 2: use `and` (5 points)\n"
      ],
      "metadata": {
        "id": "XByvPPjG-SHu"
      },
      "execution_count": 22,
      "outputs": []
    },
    {
      "cell_type": "markdown",
      "source": [
        "### Conditional Statements\n",
        "Using `if` and `else` to dictate your code's flow"
      ],
      "metadata": {
        "id": "PZ8XeJzZACsq"
      }
    },
    {
      "cell_type": "markdown",
      "source": [
        "❓ **Question 16 (10 points)**\n",
        "\n",
        "Create a code snippet following these instructions:\n",
        "\n",
        "1. **Define a single `int` variable**: use any name you like and assign it a value e.g. x = 10.\n",
        "2. **Write a conditional block**:\n",
        "    * use an `if` statement to check a condition based on the variable.\n",
        "    * follow the `if` clause with an `else` clause to handle cases where the condition is not met\n",
        "3. **Add `print()` statements**:\n",
        "    * Inside the `if` block, include a `print()` statement that outputs a message indicating the `if` block was reached.\n",
        "    * Inside the `else` block, include a different `print()` statement that outputs a message indicating the `else` block was reached."
      ],
      "metadata": {
        "id": "hfMMQ30v-XUf"
      }
    },
    {
      "cell_type": "code",
      "source": [
        "# define your integer variable (2 points)\n",
        "\n",
        "# write the conditional if-else block including print statements (8 points)\n"
      ],
      "metadata": {
        "id": "7NH2e8rB-pGJ"
      },
      "execution_count": 23,
      "outputs": []
    },
    {
      "cell_type": "markdown",
      "source": [
        "❓ **Question 17 (2 points)**\n",
        "\n",
        "Based on the conditional block you created in Question 10, what value of the variable you defined would cause the `print()` statement in the **`if` clause** to execute?"
      ],
      "metadata": {
        "id": "hsVNGe2L-_m0"
      }
    },
    {
      "cell_type": "markdown",
      "source": [],
      "metadata": {
        "id": "SKy5q7N4_3jH"
      }
    },
    {
      "cell_type": "markdown",
      "source": [
        "❓ **Question 18 (2 points)**\n",
        "\n",
        "Conversely, based on the conditional block you created in Question 10, what value of the variable you defined would cause the `print()` statement in the **`else` clause** to execute?"
      ],
      "metadata": {
        "id": "7cm-A0w4DcQq"
      }
    },
    {
      "cell_type": "markdown",
      "source": [],
      "metadata": {
        "id": "YjfpqfrgDn7Y"
      }
    },
    {
      "cell_type": "markdown",
      "source": [
        "❓ **Question 19 (14 points)**\n",
        "\n",
        "Create another code snippet following these instructions:\n",
        "\n",
        "1. **Define a single `float` variable**: use any name you like and assign it a value e.g. y = 12.5.\n",
        "2. **Write a conditional block**:\n",
        "    * use an `if` statement to check a condition based on the variable.\n",
        "    * use an `elif` statement to check another condition.\n",
        "    * follow the `elif` block with an `else` clause to handle cases where neither condition is met\n",
        "3. **Add `print()` statements**:\n",
        "    * Inside the `if` block, include a `print()` statement that outputs a message indicating the `if` block was reached.\n",
        "    * Inside the `elif` block, include a different `print()` statement that outputs a message indicating the `elif` block was reached.\n",
        "    * Inside the `else` block, include a `print()` statement that outputs a different message indicating the `else` block was reached."
      ],
      "metadata": {
        "id": "95FsaKnCFA3G"
      }
    },
    {
      "cell_type": "code",
      "source": [
        "# define your float variable (2 points)\n",
        "\n",
        "# write the conditional if-elif-else block including print statements (12 points)\n"
      ],
      "metadata": {
        "id": "87VomOEGGAi1"
      },
      "execution_count": 24,
      "outputs": []
    },
    {
      "cell_type": "markdown",
      "source": [
        "❓ **Question 20 (2 points)**\n",
        "\n",
        "Based on the conditional block you created in Question 13, what value of the variable you defined would cause the `print()` statement in the **`if` clause** to execute?"
      ],
      "metadata": {
        "id": "59hroIBJGcv9"
      }
    },
    {
      "cell_type": "markdown",
      "source": [],
      "metadata": {
        "id": "05nEWpb4GjsJ"
      }
    },
    {
      "cell_type": "markdown",
      "source": [
        "❓ **Question 21 (2 points)**\n",
        "\n",
        "Based on the conditional block you created in Question 13, what value of the variable you defined would cause the `print()` statement in the **`elif` clause** to execute?"
      ],
      "metadata": {
        "id": "jwxceHzMGk0O"
      }
    },
    {
      "cell_type": "markdown",
      "source": [],
      "metadata": {
        "id": "fbkXk-IEGrq-"
      }
    },
    {
      "cell_type": "markdown",
      "source": [
        "❓ **Question 22 (2 points)**\n",
        "\n",
        "Based on the conditional block you created in Question 13, what value of the variable you defined would cause the `print()` statement in the **`else` clause** to execute?"
      ],
      "metadata": {
        "id": "Ntb55Q91GsWk"
      }
    },
    {
      "cell_type": "markdown",
      "source": [
        "---"
      ],
      "metadata": {
        "id": "i66Hi2W2ABrR"
      }
    }
  ]
}