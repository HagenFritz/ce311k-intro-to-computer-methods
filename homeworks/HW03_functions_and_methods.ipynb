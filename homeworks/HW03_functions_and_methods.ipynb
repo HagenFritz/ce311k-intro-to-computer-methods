{
  "nbformat": 4,
  "nbformat_minor": 0,
  "metadata": {
    "colab": {
      "provenance": [],
      "collapsed_sections": [
        "0QNNbw24IRKk"
      ]
    },
    "kernelspec": {
      "name": "python3",
      "display_name": "Python 3"
    },
    "language_info": {
      "name": "python"
    }
  },
  "cells": [
    {
      "cell_type": "markdown",
      "source": [
        "# Homework 3: Functions and Methods\n",
        "Creating functions and invoking functions/methods\n",
        "\n",
        "### 💡 Learning Outcomes\n",
        "* Defining and working with functions\n",
        "* Using common methods\n",
        "\n",
        "### 📅 Due Date\n",
        "Monday 02/10 by 11:00 AM CDT\n",
        "\n",
        "### Total Points\n",
        "* Graded Out Of: 100\n",
        "* Max Possible: 102 (2 Potential Bonus Points)"
      ],
      "metadata": {
        "id": "S3pbdwml1Fi0"
      }
    },
    {
      "cell_type": "markdown",
      "source": [
        "---"
      ],
      "metadata": {
        "id": "5tXCQ_st40OU"
      }
    },
    {
      "cell_type": "markdown",
      "source": [
        "## Functions\n",
        "Creating and using user-defined functions\n",
        "\n",
        "_Total: 62 Points_"
      ],
      "metadata": {
        "id": "dHMAlD0e6b0v"
      }
    },
    {
      "cell_type": "markdown",
      "source": [
        "### ❓ **Question 1: No Parameters, No Return (4 points)**\n",
        "\n",
        "Create a simple, one-line function called `hello()` that prints \"Hello World\" when called."
      ],
      "metadata": {
        "id": "vRo1yg2p7Svs"
      }
    },
    {
      "cell_type": "code",
      "source": [
        "# Create `hello()` using the def keyword (2 Points)\n",
        "\n",
        "  # use print() to output \"Hello World\" (1 Point)\n",
        "\n",
        "\n",
        "# Call your function (1 Point)\n"
      ],
      "metadata": {
        "id": "9-gXPMPM7fu7"
      },
      "execution_count": null,
      "outputs": []
    },
    {
      "cell_type": "markdown",
      "source": [
        "### ❓ **Question 2: One Parameter, No Return (8 points)**\n",
        "In this exercise, you will create a function that calculates the square of a given number and outputs the result directly using `print()`. The function will take a single integer parameter and display the squared value.\n",
        "\n",
        "#### Exercise\n",
        "1. **Function Creation:** Create a function named `square()` that accepts one parameter:\n",
        "   - `number`: A numeric integer value.\n",
        "\n",
        "2. **Calculation:** Inside the function, square the value of `number` and store the result in a local variable named `squared_number`.\n",
        "\n",
        "3. **Output the Result:** Use the `print()` function within the function you created to display the value of `squared_number`.\n",
        "\n",
        "4. **Calling the Function:** Call the `square()` function **twice** with two different numeric arguments."
      ],
      "metadata": {
        "id": "hxN5_gib7heI"
      }
    },
    {
      "cell_type": "code",
      "source": [
        "# Create `square` with one parameter `number` (3 Points)\n",
        "\n",
        "  # raise number to the power of 2 and store the result in a new variable (2 Points)\n",
        "\n",
        "  # output the result (1 Point)\n",
        "\n",
        "\n",
        "# Call your function twice with two different number arguments (2 Points)\n"
      ],
      "metadata": {
        "id": "iNW5zJo37yY5"
      },
      "execution_count": null,
      "outputs": []
    },
    {
      "cell_type": "markdown",
      "source": [
        "### ❓ **Question 3: One Parameter, One Return (16 points)**\n",
        "In fluid mechanics, **pressure** at a given depth in a fluid is calculated based on the height of the fluid column, the fluid density, and gravity. This calculation is fundamental in hydraulics and is used to determine the pressure exerted at a certain depth. The formula is:\n",
        "\n",
        "$$P = \\rho g h$$\n",
        "\n",
        "Where:\n",
        "- $P$: Pressure (Pa, N/m$^2$)\n",
        "- $\\rho$: Density of the fluid (kg/m$^3$)\n",
        "- $g$: Gravitational acceleration ($\\text{m/s}^2$)\n",
        "- $h$: Height of the fluid column (m)\n",
        "\n",
        "#### Exercise\n",
        "1. **Function Creation:** Create a function named `calculate_pressure()` that accepts one parameter:\n",
        "  - `height`: The depth of the fluid column in meters.\n",
        "\n",
        "2. **Local Variables:**\n",
        "  - Inside the function, define a local variable `g` to represent gravitational acceleration and set it to $9.81 \\, \\text{m/s}^2$.\n",
        "  - Define another local variable `rho` to represent the density of water and set it to $1000\\ \\text{kg/m}^3$.\n",
        "\n",
        "3. **Calculation:**\n",
        "   - Compute the pressure $P$.\n",
        "   - Store the result in a variable named `P`.\n",
        "\n",
        "4. **Return the Result:** The function should return the value of `P`, representing the pressure in Pascals.\n",
        "\n",
        "5. **Calling the Function:**\n",
        "   - Create a list called `heights` that contains three unique, numeric values, such as $[12, 15, 20]$.\n",
        "   - Use a `for` loop to iterate through the `heights` list.\n",
        "   - In each iteration of the loop:\n",
        "     - Call the `calculate_pressure()` function using the current height value from the loop.\n",
        "     - Store the result in a new variable named `pressure`.\n",
        "     - Print the value of `pressure`.\n",
        "\n",
        "#### Expectations\n",
        "- The function should accurately compute the pressure at any given height of a water column.\n",
        "- For example, if the height is $10 \\ \\text{m}$, the function should return $98100\\ \\text{Pa}$."
      ],
      "metadata": {
        "id": "-xif3fPKEdtb"
      }
    },
    {
      "cell_type": "code",
      "source": [
        "# create the function `calculate_pressure()` with one parameter: height (3 Points)\n",
        "\n",
        "    # store 9.81 in g (1 Point)\n",
        "\n",
        "    # store 1000 in rho (1 Points)\n",
        "\n",
        "    # calculate the pressure, P (1 Point)\n",
        "\n",
        "    # use a return statement to return the stress (2 Points)\n",
        "\n",
        "\n",
        "# create a list called `heights` that contains three unique, numeric values (2 Points)\n",
        "\n",
        "# create a for-loop to loop through each element in heights (2 Points)\n",
        "\n",
        "  # call the function using the height from the loop's current iteration and store the result in a new variable `pressure` (3 Points)\n",
        "\n",
        "  # print the value of pressure (1 Point)\n"
      ],
      "metadata": {
        "id": "KU8l8GVvE-Ro"
      },
      "execution_count": null,
      "outputs": []
    },
    {
      "cell_type": "markdown",
      "source": [
        "### ❓ **Question 4: Two Parameters, One Return (16 points)**\n",
        "In mechanics and materials science, **stress** is defined as the force applied to a material per unit area. It determines how much a material is being compressed or stretched and is a critical quantity in structural and mechanical engineering. The formula is:\n",
        "\n",
        "$$\\sigma = \\frac{F}{A}$$\n",
        "\n",
        "Where:\n",
        "- $\\sigma$: Stress (Pa, N/m$^2$)\n",
        "- $F$: Force applied (N)\n",
        "- $A$: Cross-sectional area (m$^2$)\n",
        "\n",
        "#### Exercise\n",
        "1. **Function Creation:** Create a function named `calculate_stress()` that accepts two parameters:\n",
        "   - `force`: The load applied to the material in Newtons (N).\n",
        "   - `area`: The cross-sectional area of the material in square meters (m²).\n",
        "\n",
        "2. **Calculation:**\n",
        "   - Compute the stress $\\sigma$.\n",
        "   - Store the result in a variable named `stress`.\n",
        "\n",
        "3. **Return the Result:** The function should return the value of `stress`, representing the stress in Pascals (Pa).\n",
        "\n",
        "#### Expectations\n",
        "- The function should correctly calculate the stress for any given force and area.\n",
        "- For example, if the force is $1000 \\ \\text{N}$ and the area is $0.02\\ \\text{m}^2$, the function should return $50000 \\, \\text{Pa}$."
      ],
      "metadata": {
        "id": "_MMZuIJe_LW8"
      }
    },
    {
      "cell_type": "code",
      "source": [
        "# create the function `calculate_stress()` with two parameters: `force` and `area` (4 Points)\n",
        "\n",
        "    # calculate the stress: force divided by area (2 Points)\n",
        "\n",
        "    # use a return statement to return the stress (2 Points)\n",
        "\n",
        "\n",
        "# call the function where force=100 and area=0.2 and store the result in stress_1 (3 Points)\n",
        "\n",
        "# print the value of stress_1 (1 Point)\n",
        "\n",
        "\n",
        "# call the function where force=500 and area=2.5 and store the result in stress_2 (3 Points)\n",
        "\n",
        "# print the value of stress_2 (1 Point)\n"
      ],
      "metadata": {
        "id": "ZQRXfbRk_P8i"
      },
      "execution_count": null,
      "outputs": []
    },
    {
      "cell_type": "markdown",
      "source": [
        "### ❓ **Question 5 (18 points)**\n",
        "\n",
        "In structural engineering, a simply supported beam with a uniformly distributed load $w$ can have its **shear force** ($V$) and **bending moment** ($M$) calculated at any point $x$ along the beam using these formulas:\n",
        "* $ V(x) = R_A - w \\cdot x$\n",
        "* $M(x) = R_A \\cdot x - \\frac{w \\cdot x^2}{2}$\n",
        "\n",
        "Where:\n",
        "- $R_A = \\frac{w \\cdot L}{2}$: Reaction force at the left support (N)\n",
        "- $w$: Uniformly distributed load (N/m)\n",
        "- $x$: Distance from the left end of the beam (m)\n",
        "- $L$: Total length of the beam (m)\n",
        "\n",
        "#### Exercise\n",
        "1. **Function Creation:** Create a function named `calculate_shear_and_moment()` that accepts three parameters:\n",
        "   - `w`: Uniformly distributed load in Newtons per meter (N/m).\n",
        "   - `x`: Distance from the left end of the beam in meters (m).\n",
        "   - `L`: Total length of the beam in meters (m).\n",
        "\n",
        "2. **Local Calculations:**\n",
        "   - Compute the reaction force at the left support $R_A$ and store it in a local variable named `R_A`.\n",
        "   - Compute the shear force $V(x)$ and store it in a local variable named `V`.\n",
        "   - Compute the bending moment $M(x)$ and store it in a local variable named `M`.\n",
        "\n",
        "3. **Return Both Values:** The function should return both the shear force and the bending moment as outputs.\n",
        "\n",
        "#### Expectations\n",
        "- The function should accurately compute both the shear force and bending moment for any given load $w$, location $x$, and beam length $L$.\n",
        "- For example, given $w = 500\\ \\text{N/m} $, $x = 3\\ \\text{m}$, and $L = 10\\ \\text{m}$:\n",
        "  - $R_A = 2500\\ \\text{N}$\n",
        "  - $V = 1000\\ \\text{N}$\n",
        "  - $M = 3750\\ \\text{Nm}$\n"
      ],
      "metadata": {
        "id": "p6N8fiTddFpG"
      }
    },
    {
      "cell_type": "code",
      "source": [
        "# create the function (4 Points)\n",
        "\n",
        "    # calculate the reaction force (2 Points)\n",
        "\n",
        "    # calculate the shear foce (2 Points)\n",
        "\n",
        "    # calculate the bending moment (3 Points)\n",
        "\n",
        "    # return the shear force and bending moment (2 Points)\n",
        "\n",
        "\n",
        "# calculate and output the shear force and bending moment when w=200, x=4, L=12 (5 Points)\n",
        "\n",
        "\n"
      ],
      "metadata": {
        "id": "5f8_BfWmeINn"
      },
      "execution_count": null,
      "outputs": []
    },
    {
      "cell_type": "markdown",
      "source": [
        "---"
      ],
      "metadata": {
        "id": "OrzwStA1IQEt"
      }
    },
    {
      "cell_type": "markdown",
      "source": [
        "## Python Methods\n",
        "Familiarity with useful and common methods\n",
        "\n",
        "_Total: 40 Points_"
      ],
      "metadata": {
        "id": "0QNNbw24IRKk"
      }
    },
    {
      "cell_type": "markdown",
      "source": [
        "### String Methods\n",
        "To manipulate and analyze text data. Here are some commonly used string methods\n",
        "\n",
        "- `str.lower()`: Converts all characters in a string to lowercase.\n",
        "- `str.upper()`: Converts all characters in a string to uppercase.\n",
        "- `str.strip()`: Removes leading and trailing whitespace.\n",
        "- `str.replace(old, new)`: Replaces occurrences of a substring with another string.\n",
        "- `str.split(delimiter)`: Splits a string into a list of substrings based on a delimiter.\n",
        "- `str.isdigit()`: Checks if the string consists only of digits."
      ],
      "metadata": {
        "id": "ogec7KIbmiiJ"
      }
    },
    {
      "cell_type": "markdown",
      "source": [
        "### ❓ **Question 6: Sequential String Manipulation (11 points)**\n",
        "In this exercise, you will manipulate a string sequentially using several string methods. Follow the steps below to transform the given string and analyze its content.\n",
        "\n",
        "#### Exercise\n",
        "1. **Start with a string:** We have created a string variable named `text` and set it to the value `\"  Hello, Python 123!   \"`\n",
        "\n",
        "2. **Manipulate the string sequentially:**\n",
        "   - **Step 1:** Use `str.strip()` to remove the leading and trailing whitespace, and store the result in a new variable called `cleaned_text`\n",
        "   - **Step 2:** Use `str.replace()` to replace the substring `\"Python\"` with `\"World\"`, and store the result in a new variable called `replaced_text`\n",
        "   - **Step 3:** Use `str.lower()` to convert the text to lowercase, and store the result in a new variable called `lowercase_text`\n",
        "   - **Step 4:** Use `str.split()` to split the string into a list of words (split by whitespace), and store the result in a variable called `words`\n",
        "\n",
        "3. **Analyze the string:** Use `str.isdigit()` on the second element of the list `words` to check if it is numeric. Store the result in a variable `is_digit` and print it.\n",
        "\n",
        "4. **Additional Transformation:** Use `str.upper()` on the first element of the list `words` to convert it to uppercase. Store the result in `uppercase_word` and print it."
      ],
      "metadata": {
        "id": "tQBPvISUm4RV"
      }
    },
    {
      "cell_type": "code",
      "source": [
        "# Start with this string\n",
        "text = \"  Hello, Python 123!   \"\n",
        "\n",
        "# strip the whitespace (1 Point)\n",
        "\n",
        "# replace \"Python\" with \"World\" (2 Points)\n",
        "\n",
        "# lowercase (1 Point)\n",
        "\n",
        "# split the phrase into parts (1 Point)\n",
        "\n",
        "\n",
        "# Check if the second word is all digits (2 Points)\n",
        "\n",
        "# Output the result (1 Point)\n",
        "\n",
        "\n",
        "# Convert the first word in the list to all uppercase (2 Points)\n",
        "\n",
        "# Output the result (1 Point)\n"
      ],
      "metadata": {
        "id": "l--EFwSpn1tw"
      },
      "execution_count": null,
      "outputs": []
    },
    {
      "cell_type": "markdown",
      "source": [
        "### List Methods\n",
        "To work with ordered collections of items.\n",
        "\n",
        "- `list.append(item)`: Adds an item to the end of the list.\n",
        "- `list.extend(iterable)`: Adds all elements of an iterable (e.g., another list) to the end of the list.\n",
        "- `list.insert(index, item)`: Inserts an item at a specified index.\n",
        "- `list.remove(item)`: Removes the first occurrence of an item.\n",
        "- `list.pop(index)`: Removes and returns the item at the specified index (default is the last item).\n",
        "- `list.index(item)`: Returns the index of the first occurrence of an item.\n",
        "- `list.count(item)`: Counts the occurrences of an item in the list.\n",
        "- `list.sort()`: Sorts the list in ascending order (modifies the original list)."
      ],
      "metadata": {
        "id": "wg7PIG0umxe4"
      }
    },
    {
      "cell_type": "markdown",
      "source": [
        "### ❓ **Question 7: Sequential List Manipulation (19 points)**\n",
        "In this exercise, you will manipulate a list sequentially using several list methods.\n",
        "\n",
        "#### Exercise\n",
        "\n",
        "1. **Start with a list:** We created a list variable named `numbers` and set it to the value `[5, 3, 8, 6, 3, 9]` (2 points).\n",
        "\n",
        "2. **Manipulate the list sequentially:** ❗Note: These methods are **in-place** methods, meaning they directly modify the variable they are called on. This means you **cannot** create a new variable to store the result of the method, as these methods do not return a value.\n",
        "   - **Step 1:** Use `list.append()` to add the number `4` to the end of the list (2 points).\n",
        "   - **Step 2:** Use `list.extend()` to add the elements `[7, 2]` to the end of the list (2 points).\n",
        "   - **Step 3:** Use `list.insert()` to insert the number `10` at index `2` (2 points).\n",
        "   - **Step 4:** Use `list.remove()` to remove the first occurrence of the number `3` from the list (2 points).\n",
        "\n",
        "3. **Analyze the list:**\n",
        "   - **Step 5:** Use `list.index()` to find the index of the number `8` in the list. Store the result in a new variable called `index_of_8` and print it (2 points).\n",
        "   - **Step 6:** Use `list.count()` to count how many times the number `3` occurs in the list. Store the result in a new variable called `count_of_3` and print it (2 points).\n",
        "\n",
        "4. **Sort and Modify:**\n",
        "   - **Step 7:** Use `list.sort()` to sort the list in ascending order. Print the sorted list (2 points).\n",
        "   - **Step 8:** Use `list.pop()` to remove and return the last item in the list. Store the result in a new variable called `popped_item` and print it (2 points).\n"
      ],
      "metadata": {
        "id": "JL2rej0qZgav"
      }
    },
    {
      "cell_type": "code",
      "source": [
        "# start with the list\n",
        "numbers = [5, 3, 8, 6, 3, 9]\n",
        "\n",
        "# Append 4 (2 Points)\n",
        "\n",
        "# Extend with [7, 2] (2 Points)\n",
        "\n",
        "# Insert 10 at index 2 (2 Points)\n",
        "\n",
        "# Remove the first occurence of 3 (2 Points)\n",
        "\n",
        "\n",
        "# Get the index of the number 8 and output the result (3 Points)\n",
        "\n",
        "\n",
        "\n",
        "# Count the number of 3s in the list and output the result (3 Points)\n",
        "\n",
        "\n",
        "\n",
        "# Sort the list and output the result (2 Points)\n",
        "\n",
        "\n",
        "\n",
        "# Pop the last item out of the list and output the result (3 Points)\n",
        "\n"
      ],
      "metadata": {
        "id": "chvOnA-Wac6F"
      },
      "execution_count": null,
      "outputs": []
    },
    {
      "cell_type": "markdown",
      "source": [
        "### Dictionary Methods\n",
        "To work with key-value pairs in Python dictionaries.\n",
        "\n",
        "- `dict.keys()`: Returns a view object containing all the keys in the dictionary.\n",
        "- `dict.values()`: Returns a view object containing all the values in the dictionary.\n",
        "- `dict.items()`: Returns a view object containing all key-value pairs as tuples.\n",
        "- `dict.get(key, default)`: Returns the value for a specified key, or a default value if the key is not found.\n",
        "- `dict.pop(key)`: Removes and returns the value associated with the specified key."
      ],
      "metadata": {
        "id": "U3sGzFigZbCV"
      }
    },
    {
      "cell_type": "markdown",
      "source": [
        "### ❓ **Question 8: Sequential Dictionary Operations (10 points)**\n",
        "In this exercise, you will perform sequential operations on a dictionary using common dictionary methods.\n",
        "\n",
        "#### Exercise\n",
        "\n",
        "1. **Start with a dictionary:** We created a dictionary variable named `student_grades` to use for these steps.\n",
        "\n",
        "2. **Manipulate the dictionary sequentially:**\n",
        "   - **Step 1:** Use `dict.get()` to retrieve the grade for `\"Bob\"` and store the result in a variable named `bob_grade`. If `\"Bob\"` is not found, return `0` as the default value. Print `bob_grade`\n",
        "   - **Step 2:** Use `dict.pop()` to remove `\"Charlie\"` from the dictionary. Store the returned grade in a variable named `charlie_grade`. Print `charlie_grade` (2 points).\n",
        "   - **Step 3:** Use `dict.keys()` to get a view object of all remaining student names in the dictionary. Store the result in `student_grades_keys` and print it (2 points).\n",
        "   - **Step 4:** Use `dict.values()` to retrieve all values store them in a variable named `student_grade_values`. Print `student_grade_values` (2 points).\n",
        "\n"
      ],
      "metadata": {
        "id": "dnbKc5xWdALv"
      }
    },
    {
      "cell_type": "code",
      "source": [
        "# Step 1: Start with the dictionary\n",
        "\n",
        "\n",
        "# Get and output Bob's grade (3 Points)\n",
        "\n",
        "\n",
        "\n",
        "# Remove and output Charlie's grade (3 Points)\n",
        "\n",
        "\n",
        "\n",
        "# Get and output the keys (2 Points)\n",
        "\n",
        "\n",
        "\n",
        "# Get and output the values (2 Points)\n",
        "\n"
      ],
      "metadata": {
        "id": "PrL8eLrYeuOJ"
      },
      "execution_count": null,
      "outputs": []
    },
    {
      "cell_type": "markdown",
      "source": [
        "---"
      ],
      "metadata": {
        "id": "bIL8HhatpvWX"
      }
    }
  ]
}